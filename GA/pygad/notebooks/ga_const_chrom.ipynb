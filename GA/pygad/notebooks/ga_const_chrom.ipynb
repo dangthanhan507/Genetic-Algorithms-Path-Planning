{
 "cells": [
  {
   "cell_type": "code",
   "execution_count": 363,
   "id": "03294b97-e50e-4163-be37-a26603828272",
   "metadata": {},
   "outputs": [],
   "source": [
    "import pygad\n",
    "import numpy as np\n",
    "import math"
   ]
  },
  {
   "cell_type": "markdown",
   "id": "dca86b5d-a997-4265-991d-58f410e3dafd",
   "metadata": {},
   "source": [
    "Map: <br>\n",
    "------------------------------- <br>\n",
    "$|\\space 2 \\space\\space 0 \\space\\space 0 \\space\\space 0 \\space\\space 0 \\space\\space 0 \\space\\space 0 \\space\\space 1 \\space\\space 1 \\space\\space 1 \\space |$ <br>\n",
    "$|\\space 0 \\space\\space 0 \\space\\space 0 \\space\\space 0 \\space\\space 0 \\space\\space 0 \\space\\space 0 \\space\\space 0 \\space\\space 0 \\space\\space 0 \\space |$ <br>\n",
    "$|\\space 0 \\space\\space 0 \\space\\space 0 \\space\\space 0 \\space\\space 0 \\space\\space 0 \\space\\space 0 \\space\\space 0 \\space\\space 0 \\space\\space 0 \\space |$ <br>\n",
    "$|\\space 0 \\space\\space 0 \\space\\space 0 \\space\\space 0 \\space\\space 1 \\space\\space 0 \\space\\space 0 \\space\\space 0 \\space\\space 0 \\space\\space 0 \\space |$ <br>\n",
    "$|\\space 1 \\space\\space 1 \\space\\space 0 \\space\\space 1 \\space\\space 1 \\space\\space 0 \\space\\space 0 \\space\\space 0 \\space\\space 0 \\space\\space 0 \\space |$ <br>\n",
    "$|\\space 1 \\space\\space 1 \\space\\space 0 \\space\\space 1 \\space\\space 1 \\space\\space 0 \\space\\space 0 \\space\\space 0 \\space\\space 0 \\space\\space 0 \\space |$ <br>\n",
    "$|\\space 0 \\space\\space 0 \\space\\space 0 \\space\\space 0 \\space\\space 0 \\space\\space 0 \\space\\space 0 \\space\\space 0 \\space\\space 0 \\space\\space 0 \\space |$ <br>\n",
    "$|\\space 0 \\space\\space 0 \\space\\space 0 \\space\\space 0 \\space\\space 0 \\space\\space 0 \\space\\space 0 \\space\\space 1 \\space\\space 1 \\space\\space 0 \\space |$ <br>\n",
    "$|\\space 0 \\space\\space 0 \\space\\space 0 \\space\\space 0 \\space\\space 0 \\space\\space 0 \\space\\space 0 \\space\\space 1 \\space\\space 1 \\space\\space 0 \\space |$ <br>\n",
    "$|\\space 0 \\space\\space 0 \\space\\space 0 \\space\\space 0 \\space\\space 0 \\space\\space 0 \\space\\space 0 \\space\\space 0 \\space\\space 0 \\space\\space 2 \\space |$ <br>\n",
    "------------------------------- <br>"
   ]
  },
  {
   "cell_type": "code",
   "execution_count": 364,
   "id": "68982f58-d600-4387-a0a0-6d6edcda1fa9",
   "metadata": {},
   "outputs": [],
   "source": [
    "#creating the map above\n",
    "MAP = np.zeros( (10,10) )"
   ]
  },
  {
   "cell_type": "code",
   "execution_count": 365,
   "id": "a6a75417-abed-44a2-ae40-0f226351584f",
   "metadata": {},
   "outputs": [
    {
     "data": {
      "text/plain": [
       "array([[2., 0., 0., 0., 0., 0., 0., 1., 1., 1.],\n",
       "       [0., 0., 0., 0., 0., 0., 0., 0., 0., 0.],\n",
       "       [0., 0., 0., 0., 0., 0., 0., 0., 0., 0.],\n",
       "       [0., 0., 0., 0., 1., 0., 0., 0., 0., 0.],\n",
       "       [1., 1., 0., 1., 1., 0., 0., 0., 0., 0.],\n",
       "       [1., 1., 0., 1., 1., 0., 0., 0., 0., 0.],\n",
       "       [0., 0., 0., 0., 0., 0., 0., 0., 0., 0.],\n",
       "       [0., 0., 0., 0., 0., 0., 0., 1., 1., 0.],\n",
       "       [0., 0., 0., 0., 0., 0., 0., 1., 1., 0.],\n",
       "       [0., 0., 0., 0., 0., 0., 0., 0., 0., 4.]])"
      ]
     },
     "execution_count": 365,
     "metadata": {},
     "output_type": "execute_result"
    }
   ],
   "source": [
    "MAP[0,0] = 2 #starting point\n",
    "MAP[9,9] = 4 #ending point\n",
    "\n",
    "MAP[0,7:10] = 1\n",
    "MAP[7:9, 7:9] = 1\n",
    "MAP[4:6, 0:2] = 1\n",
    "MAP[3,4] = 1\n",
    "MAP[4:6, 3:5] = 1\n",
    "MAP"
   ]
  },
  {
   "cell_type": "markdown",
   "id": "f286714d-bbb8-4673-9573-cf838940b0af",
   "metadata": {},
   "source": [
    "Creating algorithm to detect if an obstacle is intersected."
   ]
  },
  {
   "cell_type": "code",
   "execution_count": 404,
   "id": "e452239a-45a7-49ec-908d-4a875ce97f70",
   "metadata": {},
   "outputs": [],
   "source": [
    "def determine_angle(start: (int,int), end: (int,int)):\n",
    "    dy = end[1] - start[1]\n",
    "    dx = end[0] - start[0]\n",
    "    angle = math.atan2(dy,dx) * 180 / math.pi\n",
    "    return angle\n",
    "\n",
    "def distance(start: (int,int), end: (int,int)):\n",
    "    dy = abs(end[0] - start[0])\n",
    "    dx = abs(end[1] - start[1])\n",
    "    return (dy**2 + dx**2) ** (0.5)\n",
    "\n",
    "def obstacle_threshold(start: (int,int), obstacle: (int,int)): # (x,y) returns (low, high)\n",
    "    vec_x = abs(obstacle[0] - start[0])\n",
    "    vec_y = abs(obstacle[1] - start[1])\n",
    "    \n",
    "    tl = (vec_x-0.5, vec_y+0.5)\n",
    "    tr = (vec_x+0.5, vec_y+0.5)\n",
    "    bl = (vec_x-0.5, vec_y-0.5)\n",
    "    br = (vec_x+0.5, vec_y-0.5)\n",
    "    \n",
    "    ls_angle = np.array([math.atan2(i[1], i[0]) * 180 / math.pi for i in [tl,tr,bl,br]])\n",
    "    \n",
    "    min_ls_angle = min(ls_angle)\n",
    "    max_ls_angle = max(ls_angle)\n",
    "    return (min_ls_angle, max_ls_angle)\n",
    "\n",
    "def sign(x):\n",
    "    if x==0 or x/abs(x) == 1:\n",
    "        return 1\n",
    "    else:\n",
    "        return -1\n",
    "\n",
    "def obstacle_obstructed(start: (int,int), end: (int,int), obstacle: (int,int)):\n",
    "    traj_vector = np.array([end[0] - start[0], end[1] - start[1]])\n",
    "    obj_vector = np.array([obstacle[0] - start[0], obstacle[1] - start[1]])\n",
    "    \n",
    "    obj_2_traj = traj_vector - obj_vector\n",
    "    \n",
    "    dot = np.dot(np.array(obj_vector), np.array(obj_2_traj))\n",
    "    \n",
    "    if dot <= 0: #if it is at or in front of obstacle, then is gud\n",
    "        return False\n",
    "    \n",
    "    sig_x = sign(obj_vector[0])\n",
    "    sig_y = sign(obj_vector[1])\n",
    "    traj_vector[0] *= sig_x\n",
    "    traj_vector[1] *= sig_y\n",
    "    \n",
    "    obj_vector[0] *= sig_x\n",
    "    obj_vector[1] *= sig_y\n",
    "    \n",
    "    angle_traj = determine_angle(start,end)\n",
    "    threshold = obstacle_threshold(start, obstacle)\n",
    "    \n",
    "    return threshold[0] <= angle_traj <= threshold[1]\n",
    "    "
   ]
  },
  {
   "cell_type": "code",
   "execution_count": 405,
   "id": "4772cb30-6ae5-4c59-94c8-97dbb0b5ccbb",
   "metadata": {},
   "outputs": [
    {
     "name": "stdout",
     "output_type": "stream",
     "text": [
      "[(0, 7), (0, 8), (0, 9), (3, 4), (4, 0), (4, 1), (4, 3), (4, 4), (5, 0), (5, 1), (5, 3), (5, 4), (7, 7), (7, 8), (8, 7), (8, 8)]\n"
     ]
    }
   ],
   "source": [
    "np.where(MAP==1)\n",
    "obstacles_idx = np.where(MAP==1)\n",
    "obstacles_idx = list(zip(obstacles_idx[0], obstacles_idx[1]))\n",
    "print(obstacles_idx)"
   ]
  },
  {
   "cell_type": "code",
   "execution_count": 449,
   "id": "b6873c54-7a33-479f-a4b8-f79c24a50ced",
   "metadata": {},
   "outputs": [],
   "source": [
    "# complete solution: start pt1 pt2 end\n",
    "# solution: pt1y pt1x pt2y pt2x\n",
    "def fitness_func(solution, solution_idx):\n",
    "    penalty = 0\n",
    "    \n",
    "    solution = list(map(int, solution))\n",
    "    start = (0,0)\n",
    "    pt1 = tuple(solution[0:2][::-1])\n",
    "    pt2 = tuple(solution[2:4][::-1])\n",
    "    end = (9,9)\n",
    "    \n",
    "    if MAP[pt1[::-1] ] > 0:\n",
    "        penalty += 999999\n",
    "    if MAP[pt2[::-1] ] > 0:\n",
    "        penalty += 999999\n",
    "        \n",
    "    obstacles_idx = np.where(MAP==1)\n",
    "    obstacles_idx = list(zip(obstacles_idx[1], obstacles_idx[0]))\n",
    "    \n",
    "    for i in obstacles_idx:\n",
    "        if obstacle_obstructed(start, pt1, i):\n",
    "            penalty += 999999\n",
    "        if obstacle_obstructed(pt1, pt2, i):\n",
    "            penalty += 999999\n",
    "        if obstacle_obstructed(pt2, end, i):\n",
    "            penalty += 999999\n",
    "    \n",
    "    \n",
    "    dis = distance(start,pt1) + distance(pt1,pt2) + distance(pt2,end)\n",
    "    return 1.0 / (dis + penalty)"
   ]
  },
  {
   "cell_type": "code",
   "execution_count": 470,
   "id": "25baa099-1139-4cd5-9f6b-179985a4b7a5",
   "metadata": {},
   "outputs": [],
   "source": [
    "#hyperparameters\n",
    "num_generations = 200\n",
    "num_parents_mating = 4\n",
    "\n",
    "\n",
    "sol_per_pop = 50\n",
    "num_genes = 4 #y1x1 y2x2\n",
    "\n",
    "init_range_low = 0\n",
    "init_range_high = 8\n",
    "\n",
    "mutation_percent_genes = 10"
   ]
  },
  {
   "cell_type": "code",
   "execution_count": 471,
   "id": "3802d550-77b8-4af6-828f-75e980ed926d",
   "metadata": {},
   "outputs": [],
   "source": [
    "ga_instance = pygad.GA(num_generations = num_generations,\n",
    "                      num_parents_mating=num_parents_mating,\n",
    "                      fitness_func=fitness_func,\n",
    "                      sol_per_pop=sol_per_pop,\n",
    "                      num_genes=num_genes,\n",
    "                      init_range_low=init_range_low,\n",
    "                      init_range_high=init_range_high,\n",
    "                      mutation_percent_genes=mutation_percent_genes)"
   ]
  },
  {
   "cell_type": "code",
   "execution_count": 472,
   "id": "c36d9816-231d-494e-869c-46a094eacc7b",
   "metadata": {},
   "outputs": [],
   "source": [
    "ga_instance.run()"
   ]
  },
  {
   "cell_type": "code",
   "execution_count": 473,
   "id": "e13bdf6f-b5ca-4640-b1af-27c19cf81963",
   "metadata": {},
   "outputs": [
    {
     "name": "stdout",
     "output_type": "stream",
     "text": [
      "Parameters of the best solution : [1.06715595 3.94337233 2.58463506 7.68029888]\n",
      "Fitness value of the best solution = 9.99986434690845e-07\n",
      "Index of the best solution : 0\n",
      "\n",
      "\n",
      "\n"
     ]
    },
    {
     "data": {
      "image/png": "[encoded data removed]",
      "text/plain": [
       "<Figure size 432x288 with 1 Axes>"
      ]
     },
     "metadata": {
      "needs_background": "light"
     },
     "output_type": "display_data"
    },
    {
     "data": {
      "image/png": "[encoded data removed]",
      "text/plain": [
       "<Figure size 432x288 with 1 Axes>"
      ]
     },
     "execution_count": 473,
     "metadata": {},
     "output_type": "execute_result"
    }
   ],
   "source": [
    "solution, solution_fitness, solution_idx = ga_instance.best_solution()\n",
    "print(\"Parameters of the best solution : {solution}\".format(solution=solution))\n",
    "print(\"Fitness value of the best solution = {solution_fitness}\".format(solution_fitness=solution_fitness))\n",
    "print(\"Index of the best solution : {solution_idx}\".format(solution_idx=solution_idx))\n",
    "print('\\n\\n')\n",
    "ga_instance.plot_result()"
   ]
  },
  {
   "cell_type": "code",
   "execution_count": 474,
   "id": "9e898f28-b6c4-434a-a90a-46d69ea036dc",
   "metadata": {},
   "outputs": [
    {
     "data": {
      "text/plain": [
       "14.565493175066557"
      ]
     },
     "execution_count": 474,
     "metadata": {},
     "output_type": "execute_result"
    }
   ],
   "source": [
    "#getting the distance from the best solution\n",
    "solution = list(map(int, solution))\n",
    "start = (0,0)\n",
    "pt1 = tuple(solution[0:2])\n",
    "pt2 = tuple(solution[2:4])\n",
    "end = (9,9)\n",
    "\n",
    "dis = distance(start,pt1) + distance(pt1,pt2) + distance(pt2,end)\n",
    "dis"
   ]
  },
  {
   "cell_type": "code",
   "execution_count": 475,
   "id": "30b6ec1a-a78c-4df1-8a80-b962e6d5ee87",
   "metadata": {},
   "outputs": [
    {
     "data": {
      "text/plain": [
       "12.727922061357855"
      ]
     },
     "execution_count": 475,
     "metadata": {},
     "output_type": "execute_result"
    }
   ],
   "source": [
    "start_end_dis = distance(start,end)\n",
    "start_end_dis"
   ]
  },
  {
   "cell_type": "code",
   "execution_count": 476,
   "id": "22c6931c-7278-46aa-9d65-8a2549f820cc",
   "metadata": {},
   "outputs": [],
   "source": [
    "SOLUTION_MAP = np.zeros( (10,10) )\n",
    "SOLUTION_MAP[0,0] = 2\n",
    "SOLUTION_MAP[9,9] = 4\n",
    "\n",
    "SOLUTION_MAP[0,7:10] = 1\n",
    "SOLUTION_MAP[7:9, 7:9] = 1\n",
    "SOLUTION_MAP[4:6, 0:2] = 1\n",
    "SOLUTION_MAP[3,4] = 1\n",
    "SOLUTION_MAP[4:6, 3:5] = 1\n",
    "\n",
    "SOLUTION_MAP[pt1] = 5\n",
    "SOLUTION_MAP[pt2] = 5"
   ]
  },
  {
   "cell_type": "code",
   "execution_count": 477,
   "id": "534e4128-1a51-45c4-bc32-ca994206aa02",
   "metadata": {},
   "outputs": [
    {
     "data": {
      "text/plain": [
       "array([[2., 0., 0., 0., 0., 0., 0., 1., 1., 1.],\n",
       "       [0., 0., 0., 5., 0., 0., 0., 0., 0., 0.],\n",
       "       [0., 0., 0., 0., 0., 0., 0., 5., 0., 0.],\n",
       "       [0., 0., 0., 0., 1., 0., 0., 0., 0., 0.],\n",
       "       [1., 1., 0., 1., 1., 0., 0., 0., 0., 0.],\n",
       "       [1., 1., 0., 1., 1., 0., 0., 0., 0., 0.],\n",
       "       [0., 0., 0., 0., 0., 0., 0., 0., 0., 0.],\n",
       "       [0., 0., 0., 0., 0., 0., 0., 1., 1., 0.],\n",
       "       [0., 0., 0., 0., 0., 0., 0., 1., 1., 0.],\n",
       "       [0., 0., 0., 0., 0., 0., 0., 0., 0., 4.]])"
      ]
     },
     "execution_count": 477,
     "metadata": {},
     "output_type": "execute_result"
    }
   ],
   "source": [
    "SOLUTION_MAP"
   ]
  }
 ],
 "metadata": {
  "kernelspec": {
   "display_name": "Python 3 (ipykernel)",
   "language": "python",
   "name": "python3"
  },
  "language_info": {
   "codemirror_mode": {
    "name": "ipython",
    "version": 3
   },
   "file_extension": ".py",
   "mimetype": "text/x-python",
   "name": "python",
   "nbconvert_exporter": "python",
   "pygments_lexer": "ipython3",
   "version": "3.8.6"
  }
 },
 "nbformat": 4,
 "nbformat_minor": 5
}
