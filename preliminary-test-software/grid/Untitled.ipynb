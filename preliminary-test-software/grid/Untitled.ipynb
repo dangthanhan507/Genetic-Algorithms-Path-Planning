{
 "cells": [
  {
   "cell_type": "code",
   "execution_count": 6,
   "id": "dae3bbab-5a81-4395-9ad5-431c6a6ae60d",
   "metadata": {},
   "outputs": [],
   "source": [
    "from collections import defaultdict\n",
    "import networkx as nx\n",
    "import matplotlib.pyplot as plt\n",
    "import numpy as np\n",
    "%matplotlib inline"
   ]
  },
  {
   "cell_type": "markdown",
   "id": "5165971c-c5b9-4f7f-bf34-cbe05e1cfa07",
   "metadata": {},
   "source": [
    "Creating a Map class to fully utilize functionality of grid from the other notebook."
   ]
  },
  {
   "cell_type": "markdown",
   "id": "9f1f2022-a971-467d-9e4f-fc4532e58c0c",
   "metadata": {},
   "source": [
    "Library:"
   ]
  },
  {
   "cell_type": "code",
   "execution_count": 34,
   "id": "95ba1b17-ea4b-4752-8868-f764b382a502",
   "metadata": {},
   "outputs": [],
   "source": [
    "def assigning_edges(Grid: 'Networkx Edgeless Graph', grid_map: 'numpy array',dimensions: (int,int)):\n",
    "    for row in range(dimensions[0]):\n",
    "        for col in range(dimensions[1]):\n",
    "            directions = {'up': True,'down': True,'left': True,'right': True, 'up-left': True, 'up-right': True, 'down-left': True, 'down-right': True}\n",
    "            #direction removal checks\n",
    "            if row == 0:\n",
    "                directions['up'] = False\n",
    "                directions['up-left'] = False\n",
    "                directions['up-right'] = False\n",
    "            if row == dimensions[0]-1:\n",
    "                directions['down'] = False\n",
    "                directions['down-left'] = False\n",
    "                directions['down-right'] = False\n",
    "            if col == 0:\n",
    "                directions['left'] = False\n",
    "                directions['up-left'] = False\n",
    "                directions['down-left'] = False\n",
    "            if col == dimensions[1]-1:\n",
    "                directions['right'] = False\n",
    "                directions['up-right'] = False\n",
    "                directions['down-right'] = False\n",
    "\n",
    "            for direction, tf in directions.items():\n",
    "                if tf:\n",
    "                    if directions=='up':\n",
    "                        Grid.add_edge(grid_map[row,col], grid_map[row-1,col])\n",
    "                    elif direction=='right':\n",
    "                        Grid.add_edge(grid_map[row,col], grid_map[row,col+1])\n",
    "                    elif direction=='down':\n",
    "                        Grid.add_edge(grid_map[row,col], grid_map[row+1,col])\n",
    "                    elif direction=='left':\n",
    "                        Grid.add_edge(grid_map[row,col], grid_map[row,col-1])\n",
    "                    elif direction=='up-left':\n",
    "                         Grid.add_edge(grid_map[row,col], grid_map[row-1,col-1])\n",
    "                    elif direction=='up-right':\n",
    "                         Grid.add_edge(grid_map[row,col], grid_map[row-1,col+1])\n",
    "                    elif direction=='down-left':\n",
    "                         Grid.add_edge(grid_map[row,col], grid_map[row+1,col-1])\n",
    "                    elif direction=='down-right':\n",
    "                         Grid.add_edge(grid_map[row,col], grid_map[row+1,col+1])\n",
    "    return Grid\n",
    "def generate_grid(row: int, height: int) -> 'Networkx Graph':\n",
    "    dimensions = (row,height)\n",
    "    list_grid_map = np.arange(row*height)\n",
    "    grid_map = list_grid_map.reshape(row,height)\n",
    "    Grid = nx.Graph()\n",
    "    Grid.add_nodes_from(list_grid_map)\n",
    "    \n",
    "    Grid = assigning_edges(Grid, grid_map, dimensions)\n",
    "    return Grid"
   ]
  },
  {
   "cell_type": "code",
   "execution_count": 37,
   "id": "bc6ea98c-5358-42db-b133-9123887d5210",
   "metadata": {},
   "outputs": [
    {
     "ename": "SyntaxError",
     "evalue": "invalid syntax (Temp/ipykernel_3876/3661314850.py, line 17)",
     "output_type": "error",
     "traceback": [
      "\u001b[1;36m  File \u001b[1;32m\"C:\\Users\\An\\AppData\\Local\\Temp/ipykernel_3876/3661314850.py\"\u001b[1;36m, line \u001b[1;32m17\u001b[0m\n\u001b[1;33m    def\u001b[0m\n\u001b[1;37m        ^\u001b[0m\n\u001b[1;31mSyntaxError\u001b[0m\u001b[1;31m:\u001b[0m invalid syntax\n"
     ]
    }
   ],
   "source": [
    "class Map:\n",
    "    def __init__(self, row=3, height=3, start = 0, end = 0):\n",
    "        self.grid = generate_grid(row,height)\n",
    "        \n",
    "        self.grid_map = np.arange(row*height)\n",
    "        self.grid_map.reshape(row,height)\n",
    "        \n",
    "        \n",
    "        self.start = start\n",
    "        self.end = end\n",
    "        \n",
    "        \n",
    "    def add_node(self):\n",
    "        pass\n",
    "    def remove_node(self):\n",
    "        pass\n",
    "    def \n",
    "        \n",
    "    \n",
    "    "
   ]
  },
  {
   "cell_type": "markdown",
   "id": "1857dbe4-45d6-42a7-a3ae-d7c9d68edb08",
   "metadata": {},
   "source": [
    "Unit tests for Map Class"
   ]
  },
  {
   "cell_type": "code",
   "execution_count": null,
   "id": "f42be60c-5d6a-4b86-8bb8-81058ff94422",
   "metadata": {},
   "outputs": [],
   "source": []
  }
 ],
 "metadata": {
  "kernelspec": {
   "display_name": "Python 3 (ipykernel)",
   "language": "python",
   "name": "python3"
  },
  "language_info": {
   "codemirror_mode": {
    "name": "ipython",
    "version": 3
   },
   "file_extension": ".py",
   "mimetype": "text/x-python",
   "name": "python",
   "nbconvert_exporter": "python",
   "pygments_lexer": "ipython3",
   "version": "3.8.6"
  }
 },
 "nbformat": 4,
 "nbformat_minor": 5
}
