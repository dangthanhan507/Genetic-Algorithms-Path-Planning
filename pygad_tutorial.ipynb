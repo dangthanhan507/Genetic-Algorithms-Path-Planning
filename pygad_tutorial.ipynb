{
 "cells": [
  {
   "cell_type": "markdown",
   "id": "81c09f5c-ff9e-48b7-90e5-8d274e366a29",
   "metadata": {},
   "source": [
    "# PYGAD Tutorial"
   ]
  },
  {
   "cell_type": "markdown",
   "id": "76a88217-419b-47ad-b560-828938688444",
   "metadata": {},
   "source": [
    "The goal of genetic algorithms is to do find x input with a given weight where the function is maximized."
   ]
  },
  {
   "cell_type": "code",
   "execution_count": 6,
   "id": "64d697b9-9a95-4cba-ab19-e564404a849f",
   "metadata": {},
   "outputs": [],
   "source": [
    "import pygad\n",
    "import numpy as np"
   ]
  },
  {
   "cell_type": "markdown",
   "id": "8ab1cca7-f282-4844-b61c-2566f080abac",
   "metadata": {},
   "source": [
    "y = f(w1:w6) = w1x1 + w2x2 + w3x3 + w4x4 + w5x5 + w6x6 <br>\n",
    "\n",
    "x = (x1,x2,x3,x4,x5,x6) = (4,-2,3.5,5,-11,4.7) and y=44"
   ]
  },
  {
   "cell_type": "code",
   "execution_count": 17,
   "id": "35505e28-c160-48e3-88c8-fca6ae7c9f03",
   "metadata": {},
   "outputs": [],
   "source": [
    "function_inputs = [4,-2,3.5,5,-11,-4.7]"
   ]
  },
  {
   "cell_type": "code",
   "execution_count": 16,
   "id": "225d2fef-0666-46b0-bf52-5e689b257896",
   "metadata": {},
   "outputs": [],
   "source": [
    "desired_output = 44"
   ]
  },
  {
   "cell_type": "markdown",
   "id": "2531a404-caad-44ad-b3f2-5c9e26157ffb",
   "metadata": {},
   "source": [
    "Create fitness function given a solution (chromosome)."
   ]
  },
  {
   "cell_type": "code",
   "execution_count": 10,
   "id": "0b10ad9c-663c-42df-89d5-693e05a8d554",
   "metadata": {},
   "outputs": [],
   "source": [
    "def fitness_func(solution, solution_idx):\n",
    "    output = np.sum(solution*function_inputs)\n",
    "    fitness = 1.0 / np.abs(output - desired_output)\n",
    "    return fitness"
   ]
  },
  {
   "cell_type": "markdown",
   "id": "46bc0e61-9a27-40b5-b747-ef2c90314fc4",
   "metadata": {},
   "source": [
    "Write down the hyperparameters"
   ]
  },
  {
   "cell_type": "code",
   "execution_count": 18,
   "id": "3c088aaf-111f-4b5a-9798-138b7350984a",
   "metadata": {},
   "outputs": [],
   "source": [
    "fitness_function = fitness_func\n",
    "\n",
    "num_generations = 50 #number of generations\n",
    "num_parents_mating = 4 #number of parents per crossover\n",
    "\n",
    "sol_per_pop = 8 #solution per population\n",
    "num_genes = len(function_inputs)\n",
    "\n",
    "init_range_low = -2 #lowest initial range\n",
    "init_range_high = 5 #highest initial range\n",
    "\n",
    "parent_selection_type = 'sss' \n",
    "keep_parents = 1 #keep 1 parent\n",
    "\n",
    "crossover_type = 'single_point'\n",
    "\n",
    "mutation_type = 'random'\n",
    "mutation_percent_genes = 10"
   ]
  },
  {
   "cell_type": "code",
   "execution_count": 19,
   "id": "adfa2789-3a86-4e64-9a5d-9c773ba040a2",
   "metadata": {},
   "outputs": [],
   "source": [
    "ga_instance = pygad.GA(num_generations=num_generations,\n",
    "                      num_parents_mating=num_parents_mating,\n",
    "                      fitness_func=fitness_function,\n",
    "                      sol_per_pop=sol_per_pop,\n",
    "                      num_genes=num_genes,\n",
    "                      init_range_low=init_range_low,\n",
    "                      init_range_high=init_range_high,\n",
    "                      parent_selection_type=parent_selection_type,\n",
    "                      keep_parents=keep_parents,\n",
    "                      crossover_type=crossover_type,\n",
    "                      mutation_type=mutation_type,\n",
    "                      mutation_percent_genes=mutation_percent_genes)"
   ]
  },
  {
   "cell_type": "code",
   "execution_count": 20,
   "id": "36fe421a-b457-4c07-a3c9-94371e25b1b2",
   "metadata": {},
   "outputs": [],
   "source": [
    "ga_instance.run()"
   ]
  },
  {
   "cell_type": "code",
   "execution_count": 21,
   "id": "4bb2b354-131e-4e4f-8ece-0d91a5588e25",
   "metadata": {},
   "outputs": [],
   "source": [
    "solution, solution_fitness, solution_idx = ga_instance.best_solution()"
   ]
  },
  {
   "cell_type": "code",
   "execution_count": 28,
   "id": "423dc4a6-deed-4386-91dd-a8d49aad7aa2",
   "metadata": {},
   "outputs": [
    {
     "name": "stdout",
     "output_type": "stream",
     "text": [
      "Parameters of the best solution : \n",
      "[-1.25258976  3.84719265  1.81346001  4.52938318 -1.9795869  -1.26349383]\n",
      "\n",
      "Fitness value of the best solution = 316.60653239778486\n",
      "\n",
      "Predicted output based on the best solution : 44.00315849452766\n"
     ]
    }
   ],
   "source": [
    "print(\"Parameters of the best solution : \\n{solution}\\n\".format(solution=solution))\n",
    "print(\"Fitness value of the best solution = {solution_fitness}\\n\".format(solution_fitness=solution_fitness))\n",
    "\n",
    "prediction = np.sum(np.array(function_inputs)*solution)\n",
    "print(\"Predicted output based on the best solution : {prediction}\".format(prediction=prediction))"
   ]
  }
 ],
 "metadata": {
  "kernelspec": {
   "display_name": "Python 3 (ipykernel)",
   "language": "python",
   "name": "python3"
  },
  "language_info": {
   "codemirror_mode": {
    "name": "ipython",
    "version": 3
   },
   "file_extension": ".py",
   "mimetype": "text/x-python",
   "name": "python",
   "nbconvert_exporter": "python",
   "pygments_lexer": "ipython3",
   "version": "3.8.6"
  }
 },
 "nbformat": 4,
 "nbformat_minor": 5
}
