{
 "cells": [
  {
   "cell_type": "markdown",
   "id": "c3cd18d3",
   "metadata": {},
   "source": [
    "# Chromosome Encoding"
   ]
  },
  {
   "cell_type": "code",
   "execution_count": 6,
   "id": "1a86acde",
   "metadata": {},
   "outputs": [
    {
     "data": {
      "text/plain": [
       "\"\\nI think I'll represent my chromosomes as follows:\\n    chromosome = np.array([(int,int)]) where int >= 0\\n    \\n    for example:\\n    inital_sol = np.array([(0,0), (1,1), (4,4), (8,8)])\\n\\n    the chromosomes should also not include the start and endpoint because that will never change.\\n\\n    np.array encapsulates it in numpy which makes it easier to work with since the software is \\n    wrapped in C for optimal performance.\\n\\n\\n\""
      ]
     },
     "execution_count": 6,
     "metadata": {},
     "output_type": "execute_result"
    }
   ],
   "source": [
    "'''\n",
    "I think I'll represent my chromosomes as follows:\n",
    "    chromosome = np.array([(int,int)]) where int >= 0\n",
    "    \n",
    "    for example:\n",
    "    inital_sol = np.array([(0,0), (1,1), (4,4), (8,8)])\n",
    "\n",
    "    the chromosomes should also not include the start and endpoint because that will never change.\n",
    "\n",
    "    np.array encapsulates it in numpy which makes it easier to work with since the software is \n",
    "    wrapped in C for optimal performance.\n",
    "\n",
    "\n",
    "'''"
   ]
  },
  {
   "cell_type": "markdown",
   "id": "2fd89a0c",
   "metadata": {},
   "source": [
    "# Roulette Selection Operator"
   ]
  },
  {
   "cell_type": "code",
   "execution_count": 26,
   "id": "59ffd38f",
   "metadata": {},
   "outputs": [],
   "source": [
    "'''\n",
    "    creating functions for roulette selection\n",
    "'''\n",
    "import random\n",
    "import numpy as np\n",
    "def example_fitness(x):\n",
    "    return random.randint(0,5)\n",
    "def example_population(n: int):\n",
    "    return np.array([i for i in range(10)])\n",
    "def example_calc_fitness_prob(population, fitness_function):\n",
    "    fitness_pop = np.array([fitness_function(i) for i in population])\n",
    "    sum_fitness = np.sum(fitness_pop)\n",
    "    return (fitness_pop / sum_fitness) #probability list\n",
    "def roulette_selection(population, p_weights, n=2):\n",
    "    #n is number to choose from\n",
    "    return np.random.choice(population, 2, p=p_weights, replace=False)"
   ]
  },
  {
   "cell_type": "code",
   "execution_count": 27,
   "id": "5d874a1a",
   "metadata": {},
   "outputs": [],
   "source": [
    "population = example_population(10)\n",
    "p_weights = example_calc_fitness_prob(population, example_fitness)\n",
    "selected = roulette_selection(population, p_weights)"
   ]
  },
  {
   "cell_type": "code",
   "execution_count": 28,
   "id": "9321674e",
   "metadata": {},
   "outputs": [
    {
     "data": {
      "text/plain": [
       "array([4, 8])"
      ]
     },
     "execution_count": 28,
     "metadata": {},
     "output_type": "execute_result"
    }
   ],
   "source": [
    "selected"
   ]
  },
  {
   "cell_type": "markdown",
   "id": "94b0cfd1",
   "metadata": {},
   "source": [
    "# Single-Point Crossover"
   ]
  },
  {
   "cell_type": "markdown",
   "id": "d764ff12",
   "metadata": {},
   "source": [
    "Description: Single point crossover takes the longest length gene and uses the index <br>\n",
    "in the middle of path to split both of the paths being crossed over<br>"
   ]
  },
  {
   "cell_type": "code",
   "execution_count": 63,
   "id": "e680223e",
   "metadata": {},
   "outputs": [],
   "source": [
    "def crossover(parents: [[(int,int)]]):\n",
    "    '''\n",
    "        parents is a 2d matrix with each row representing a parent path\n",
    "                    each column represents nth point of the path.\n",
    "                    \n",
    "        offspring_size is a 2d matrix too that represents the same thing\n",
    "    '''\n",
    "    #initial checks\n",
    "    assert parents.shape[0] >= 2\n",
    "    assert parents.shape[0] % 2 == 0\n",
    "    assert len(parents[0]) != 0\n",
    "    \n",
    "    offspring = []\n",
    "    for i in range(0,parents.shape[0],2): #iterate through each parent by 2\n",
    "        parent1_idx,parent2_idx = i,i+1\n",
    "        crossover_point = max(len(parents[parent1_idx]),len(parents[parent2_idx])) // 2\n",
    "        offspring_path1 = parents[parent1_idx][0:crossover_point] + parents[parent2_idx][crossover_point:]\n",
    "        offspring_path2 = parents[parent2_idx][0:crossover_point] + parents[parent1_idx][crossover_point:]\n",
    "        \n",
    "        offspring.append(offspring_path1)\n",
    "        offspring.append(offspring_path2)\n",
    "        \n",
    "    offspring = np.array(offspring,dtype=object)\n",
    "    return offspring"
   ]
  },
  {
   "cell_type": "code",
   "execution_count": 91,
   "id": "ec0f2aef",
   "metadata": {},
   "outputs": [],
   "source": [
    "parents = np.array([[(0,1),(1,2),(3,3)],\n",
    "                    [(2,2),(9,9),(2,2),(8,8)],\n",
    "                    [(1,1),(2,2),(3,3),(4,4),(5,5)],\n",
    "                    [(8,8)],\n",
    "                    [(1,2),(2,3),(3,4),(4,5),(5,6),(6,7),(7,8)],\n",
    "                    [(10,11),(11,12)]],dtype=object)\n"
   ]
  },
  {
   "cell_type": "code",
   "execution_count": 92,
   "id": "387dd9f5",
   "metadata": {},
   "outputs": [
    {
     "data": {
      "text/plain": [
       "array([list([(0, 1), (1, 2), (2, 2), (8, 8)]),\n",
       "       list([(2, 2), (9, 9), (3, 3)]), list([(1, 1), (2, 2)]),\n",
       "       list([(8, 8), (3, 3), (4, 4), (5, 5)]),\n",
       "       list([(1, 2), (2, 3), (3, 4)]),\n",
       "       list([(10, 11), (11, 12), (4, 5), (5, 6), (6, 7), (7, 8)])],\n",
       "      dtype=object)"
      ]
     },
     "execution_count": 92,
     "metadata": {},
     "output_type": "execute_result"
    }
   ],
   "source": [
    "crossover(parents)"
   ]
  },
  {
   "cell_type": "markdown",
   "id": "6ee12d0d",
   "metadata": {},
   "source": [
    "## Bresenham Line Generation algorithm for Mutation operator"
   ]
  },
  {
   "cell_type": "code",
   "execution_count": 201,
   "id": "336fe1af",
   "metadata": {},
   "outputs": [],
   "source": [
    "def bresenham(x0: int, y0: int, x1: int, y1: int):\n",
    "    if x1-x0 == 0:\n",
    "        dy = y1-y0\n",
    "        sig = 1 if dy > 0 else -1\n",
    "        path_list = [(x0,y0+sig*i) for i in range(sig*dy+1)]\n",
    "    elif y1-y0 == 0:\n",
    "        dx = x1-x0\n",
    "        sig = 1 if dx > 0 else -1\n",
    "        path_list = [(x0+sig*i,y0) for i in range(sig*dx+1)]\n",
    "    else:\n",
    "        dx = abs(x1-x0)\n",
    "        sx = 1 if x0<x1 else -1\n",
    "        dy = -abs(y1-y0)\n",
    "        sy = 1 if y0 < y1 else -1\n",
    "        err = dx+dy\n",
    "        path_list = []\n",
    "        x = x0\n",
    "        y = y0\n",
    "        while (x != x1 or y != y1):\n",
    "            path_list.append( (x,y) )\n",
    "            e2 = 2*err\n",
    "            if (e2>=dy):\n",
    "                err += dy\n",
    "                x += sx\n",
    "            if (e2 <= dx):\n",
    "                err += dx\n",
    "                y += sy\n",
    "\n",
    "        path_list.append( (x,y) )\n",
    "    \n",
    "    path_list.remove( (x0,y0) )\n",
    "    path_list.remove( (x1,y1) )\n",
    "    return path_list"
   ]
  },
  {
   "cell_type": "code",
   "execution_count": 202,
   "id": "7808f3f4",
   "metadata": {},
   "outputs": [
    {
     "data": {
      "text/plain": [
       "[(1, 1), (2, 2), (3, 3), (4, 4), (5, 5), (6, 6), (7, 7), (8, 8), (9, 9)]"
      ]
     },
     "execution_count": 202,
     "metadata": {},
     "output_type": "execute_result"
    }
   ],
   "source": [
    "bresenham(0,0,10,10)"
   ]
  },
  {
   "cell_type": "code",
   "execution_count": 203,
   "id": "9b55405d",
   "metadata": {},
   "outputs": [
    {
     "data": {
      "text/plain": [
       "[(-9, -9),\n",
       " (-8, -9),\n",
       " (-7, -8),\n",
       " (-6, -7),\n",
       " (-5, -7),\n",
       " (-4, -6),\n",
       " (-3, -5),\n",
       " (-2, -5),\n",
       " (-1, -4),\n",
       " (0, -3),\n",
       " (1, -3),\n",
       " (2, -2),\n",
       " (3, -1),\n",
       " (4, -1)]"
      ]
     },
     "execution_count": 203,
     "metadata": {},
     "output_type": "execute_result"
    }
   ],
   "source": [
    "bresenham(-10,-10,5,0)"
   ]
  },
  {
   "cell_type": "code",
   "execution_count": 204,
   "id": "ecf015d9",
   "metadata": {
    "scrolled": true
   },
   "outputs": [
    {
     "data": {
      "text/plain": [
       "[]"
      ]
     },
     "execution_count": 204,
     "metadata": {},
     "output_type": "execute_result"
    }
   ],
   "source": [
    "bresenham(0,0,1,0)"
   ]
  },
  {
   "cell_type": "code",
   "execution_count": 205,
   "id": "7db6411a",
   "metadata": {},
   "outputs": [
    {
     "data": {
      "text/plain": [
       "[(-4, 0), (-3, 0), (-2, 0), (-1, 0), (0, 0), (1, 0), (2, 0), (3, 0), (4, 0)]"
      ]
     },
     "execution_count": 205,
     "metadata": {},
     "output_type": "execute_result"
    }
   ],
   "source": [
    "bresenham(-5,0,5,0)"
   ]
  },
  {
   "cell_type": "markdown",
   "id": "86ed5363",
   "metadata": {},
   "source": [
    "# Addition Mutation Operator"
   ]
  },
  {
   "cell_type": "code",
   "execution_count": 238,
   "id": "c8912610",
   "metadata": {},
   "outputs": [],
   "source": [
    "def mutation_addition(offsprings, map_shape, start, end):\n",
    "    size = offsprings.shape[0]\n",
    "    for i in range(size):\n",
    "        path = offsprings[i]\n",
    "        random_select_idx = random.randint(0,len(path)-1)\n",
    "        random_select = path[random_select_idx]\n",
    "        \n",
    "        #getting the neighbors\n",
    "        if random_select_idx == 0:\n",
    "            neighbor_back = start\n",
    "            neighbor_front = path[random_select_idx + 1]\n",
    "        elif random_select_idx == len(path)-1:\n",
    "            neighbor_back = path[random_select_idx - 1]\n",
    "            neighbor_front = end\n",
    "        else:\n",
    "            neighbor_back = path[random_select_idx - 1]\n",
    "            neighbor_front = path[random_select_idx + 1]\n",
    "        \n",
    "        x0,y0 = neighbor_back\n",
    "        x1,y1 = random_select\n",
    "        bresenham_back = bresenham(x0,y0,x1,y1)\n",
    "        \n",
    "        x0,y0 = random_select\n",
    "        x1,y1 = neighbor_front\n",
    "        bresenham_front = bresenham(x0,y0,x1,y1)\n",
    "        \n",
    "        len_bresenham_back = len(bresenham_back)\n",
    "        len_bresenham_front = len(bresenham_front)\n",
    "        \n",
    "        selected_back = bresenham_back[random.randint(0,len_bresenham_back-1)] \\\n",
    "                        if len_bresenham_back != 0 else neighbor_back\n",
    "        selected_front = bresenham_front[random.randint(0,len_bresenham_front-1)] \\\n",
    "                        if len_bresenham_front != 0 else neighbor_front\n",
    "        \n",
    "        print(f'Path: {path}')\n",
    "        inserted_back = False\n",
    "        if selected_back != start and selected_back != neighbor_back:\n",
    "            path[random_select_idx] = selected_back\n",
    "        if selected_front != end and selected_front != neighbor_front:\n",
    "                path.insert(random_select_idx+1,selected_front)\n",
    "        \n",
    "        \n",
    "        print(f'Randomized Selection: {random_select}')\n",
    "        print(f'Neighbors: {neighbor_back} {neighbor_front}')\n",
    "        print(f'Bresenham Back {bresenham_back}')\n",
    "        print(f'Bresenham Front {bresenham_front}')\n",
    "        print(f'Selected Points: {selected_back} {selected_front}')\n",
    "        print(f'New Path: {path}')\n",
    "        print('\\n')"
   ]
  },
  {
   "cell_type": "code",
   "execution_count": 242,
   "id": "9d62ce9a",
   "metadata": {},
   "outputs": [
    {
     "name": "stdout",
     "output_type": "stream",
     "text": [
      "Path: [(0, 1), (1, 2), (2, 2), (8, 8)]\n",
      "Randomized Selection: (1, 2)\n",
      "Neighbors: (0, 1) (2, 2)\n",
      "Bresenham Back []\n",
      "Bresenham Front []\n",
      "Selected Points: (0, 1) (2, 2)\n",
      "New Path: [(0, 1), (1, 2), (2, 2), (8, 8)]\n",
      "\n",
      "\n",
      "Path: [(2, 2), (9, 9), (3, 3)]\n",
      "Randomized Selection: (9, 9)\n",
      "Neighbors: (2, 2) (3, 3)\n",
      "Bresenham Back [(3, 3), (4, 4), (5, 5), (6, 6), (7, 7), (8, 8)]\n",
      "Bresenham Front [(8, 8), (7, 7), (6, 6), (5, 5), (4, 4)]\n",
      "Selected Points: (3, 3) (7, 7)\n",
      "New Path: [(2, 2), (3, 3), (7, 7), (3, 3)]\n",
      "\n",
      "\n",
      "Path: [(1, 1), (2, 2)]\n",
      "Randomized Selection: (1, 1)\n",
      "Neighbors: (0, 0) (2, 2)\n",
      "Bresenham Back []\n",
      "Bresenham Front []\n",
      "Selected Points: (0, 0) (2, 2)\n",
      "New Path: [(1, 1), (2, 2)]\n",
      "\n",
      "\n",
      "Path: [(8, 8), (3, 3), (4, 4), (5, 5)]\n",
      "Randomized Selection: (5, 5)\n",
      "Neighbors: (4, 4) (11, 11)\n",
      "Bresenham Back []\n",
      "Bresenham Front [(6, 6), (7, 7), (8, 8), (9, 9), (10, 10)]\n",
      "Selected Points: (4, 4) (7, 7)\n",
      "New Path: [(8, 8), (3, 3), (4, 4), (5, 5), (7, 7)]\n",
      "\n",
      "\n",
      "Path: [(1, 2), (2, 3), (3, 4)]\n",
      "Randomized Selection: (3, 4)\n",
      "Neighbors: (2, 3) (11, 11)\n",
      "Bresenham Back []\n",
      "Bresenham Front [(4, 5), (5, 6), (6, 7), (7, 8), (8, 8), (9, 9), (10, 10)]\n",
      "Selected Points: (2, 3) (5, 6)\n",
      "New Path: [(1, 2), (2, 3), (3, 4), (5, 6)]\n",
      "\n",
      "\n",
      "Path: [(10, 11), (11, 12), (4, 5), (5, 6), (6, 7), (7, 8)]\n",
      "Randomized Selection: (7, 8)\n",
      "Neighbors: (6, 7) (11, 11)\n",
      "Bresenham Back []\n",
      "Bresenham Front [(8, 9), (9, 10), (10, 10)]\n",
      "Selected Points: (6, 7) (8, 9)\n",
      "New Path: [(10, 11), (11, 12), (4, 5), (5, 6), (6, 7), (7, 8), (8, 9)]\n",
      "\n",
      "\n"
     ]
    }
   ],
   "source": [
    "offsprings = crossover(parents)\n",
    "mutation_addition(offsprings, (12,12), (0,0), (11,11))"
   ]
  },
  {
   "cell_type": "code",
   "execution_count": 244,
   "id": "55f7506b",
   "metadata": {},
   "outputs": [
    {
     "data": {
      "text/plain": [
       "array([list([(0, 1), (1, 2), (2, 2), (8, 8)]),\n",
       "       list([(2, 2), (3, 3), (7, 7), (3, 3)]), list([(1, 1), (2, 2)]),\n",
       "       list([(8, 8), (3, 3), (4, 4), (5, 5), (7, 7)]),\n",
       "       list([(1, 2), (2, 3), (3, 4), (5, 6)]),\n",
       "       list([(10, 11), (11, 12), (4, 5), (5, 6), (6, 7), (7, 8), (8, 9)])],\n",
       "      dtype=object)"
      ]
     },
     "execution_count": 244,
     "metadata": {},
     "output_type": "execute_result"
    }
   ],
   "source": [
    "offsprings #updated from mutation"
   ]
  },
  {
   "cell_type": "code",
   "execution_count": null,
   "id": "74850e2f",
   "metadata": {},
   "outputs": [],
   "source": []
  }
 ],
 "metadata": {
  "kernelspec": {
   "display_name": "Python 3 (ipykernel)",
   "language": "python",
   "name": "python3"
  },
  "language_info": {
   "codemirror_mode": {
    "name": "ipython",
    "version": 3
   },
   "file_extension": ".py",
   "mimetype": "text/x-python",
   "name": "python",
   "nbconvert_exporter": "python",
   "pygments_lexer": "ipython3",
   "version": "3.8.6"
  }
 },
 "nbformat": 4,
 "nbformat_minor": 5
}
