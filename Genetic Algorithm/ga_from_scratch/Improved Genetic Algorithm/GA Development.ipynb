{
 "cells": [
  {
   "cell_type": "markdown",
   "id": "9a87630b",
   "metadata": {},
   "source": [
    "# Chromosome Encoding"
   ]
  },
  {
   "cell_type": "code",
   "execution_count": 6,
   "id": "e954b2d6",
   "metadata": {},
   "outputs": [
    {
     "data": {
      "text/plain": [
       "\"\\nI think I'll represent my chromosomes as follows:\\n    chromosome = np.array([(int,int)]) where int >= 0\\n    \\n    for example:\\n    inital_sol = np.array([(0,0), (1,1), (4,4), (8,8)])\\n\\n    the chromosomes should also not include the start and endpoint because that will never change.\\n\\n    np.array encapsulates it in numpy which makes it easier to work with since the software is \\n    wrapped in C for optimal performance.\\n\\n\\n\""
      ]
     },
     "execution_count": 6,
     "metadata": {},
     "output_type": "execute_result"
    }
   ],
   "source": [
    "'''\n",
    "I think I'll represent my chromosomes as follows:\n",
    "    chromosome = np.array([(int,int)]) where int >= 0\n",
    "    \n",
    "    for example:\n",
    "    inital_sol = np.array([(0,0), (1,1), (4,4), (8,8)])\n",
    "\n",
    "    the chromosomes should also not include the start and endpoint because that will never change.\n",
    "\n",
    "    np.array encapsulates it in numpy which makes it easier to work with since the software is \n",
    "    wrapped in C for optimal performance.\n",
    "\n",
    "\n",
    "'''"
   ]
  },
  {
   "cell_type": "markdown",
   "id": "fe09bac1",
   "metadata": {},
   "source": [
    "# Roulette Selection Operator"
   ]
  },
  {
   "cell_type": "code",
   "execution_count": 26,
   "id": "7b034278",
   "metadata": {},
   "outputs": [],
   "source": [
    "'''\n",
    "    creating functions for roulette selection\n",
    "'''\n",
    "import random\n",
    "import numpy as np\n",
    "def example_fitness(x):\n",
    "    return random.randint(0,5)\n",
    "def example_population(n: int):\n",
    "    return np.array([i for i in range(10)])\n",
    "def example_calc_fitness_prob(population, fitness_function):\n",
    "    fitness_pop = np.array([fitness_function(i) for i in population])\n",
    "    sum_fitness = np.sum(fitness_pop)\n",
    "    return (fitness_pop / sum_fitness) #probability list\n",
    "def roulette_selection(population, p_weights, n=2):\n",
    "    #n is number to choose from\n",
    "    return np.random.choice(population, 2, p=p_weights, replace=False)"
   ]
  },
  {
   "cell_type": "code",
   "execution_count": 27,
   "id": "4b82415f",
   "metadata": {},
   "outputs": [],
   "source": [
    "population = example_population(10)\n",
    "p_weights = example_calc_fitness_prob(population, example_fitness)\n",
    "selected = roulette_selection(population, p_weights)"
   ]
  },
  {
   "cell_type": "code",
   "execution_count": 28,
   "id": "aac0e9c9",
   "metadata": {},
   "outputs": [
    {
     "data": {
      "text/plain": [
       "array([4, 8])"
      ]
     },
     "execution_count": 28,
     "metadata": {},
     "output_type": "execute_result"
    }
   ],
   "source": [
    "selected"
   ]
  },
  {
   "cell_type": "markdown",
   "id": "5d1bf854",
   "metadata": {},
   "source": [
    "# Single-Point Crossover"
   ]
  },
  {
   "cell_type": "markdown",
   "id": "a4d15600",
   "metadata": {},
   "source": [
    "Description: Single point crossover takes the longest length gene and uses the index <br>\n",
    "in the middle of path to split both of the paths being crossed over<br>"
   ]
  },
  {
   "cell_type": "code",
   "execution_count": 63,
   "id": "7b76a326",
   "metadata": {},
   "outputs": [],
   "source": [
    "def crossover(parents: [[(int,int)]]):\n",
    "    '''\n",
    "        parents is a 2d matrix with each row representing a parent path\n",
    "                    each column represents nth point of the path.\n",
    "                    \n",
    "        offspring_size is a 2d matrix too that represents the same thing\n",
    "    '''\n",
    "    #initial checks\n",
    "    assert parents.shape[0] >= 2\n",
    "    assert parents.shape[0] % 2 == 0\n",
    "    assert len(parents[0]) != 0\n",
    "    \n",
    "    offspring = []\n",
    "    for i in range(0,parents.shape[0],2): #iterate through each parent by 2\n",
    "        parent1_idx,parent2_idx = i,i+1\n",
    "        crossover_point = max(len(parents[parent1_idx]),len(parents[parent2_idx])) // 2\n",
    "        offspring_path1 = parents[parent1_idx][0:crossover_point] + parents[parent2_idx][crossover_point:]\n",
    "        offspring_path2 = parents[parent2_idx][0:crossover_point] + parents[parent1_idx][crossover_point:]\n",
    "        \n",
    "        offspring.append(offspring_path1)\n",
    "        offspring.append(offspring_path2)\n",
    "        \n",
    "    offspring = np.array(offspring,dtype=object)\n",
    "    return offspring"
   ]
  },
  {
   "cell_type": "code",
   "execution_count": 68,
   "id": "94c4af8b",
   "metadata": {},
   "outputs": [],
   "source": [
    "parents = np.array([[(0,1),(1,2),(3,3)],\n",
    "                    [(0,0),(9,9),(2,2),(8,8)],\n",
    "                    [(1,1),(2,2),(3,3),(4,4),(5,5)],\n",
    "                    [(8,8)],\n",
    "                    [(1,2),(2,3),(3,4),(4,5),(5,6),(6,7),(7,8)],\n",
    "                    [(10,11),(11,12)]],dtype=object)\n"
   ]
  },
  {
   "cell_type": "code",
   "execution_count": 69,
   "id": "8882d512",
   "metadata": {},
   "outputs": [
    {
     "data": {
      "text/plain": [
       "array([list([(0, 1), (1, 2), (2, 2), (8, 8)]),\n",
       "       list([(0, 0), (9, 9), (3, 3)]), list([(1, 1), (2, 2)]),\n",
       "       list([(8, 8), (3, 3), (4, 4), (5, 5)]),\n",
       "       list([(1, 2), (2, 3), (3, 4)]),\n",
       "       list([(10, 11), (11, 12), (4, 5), (5, 6), (6, 7), (7, 8)])],\n",
       "      dtype=object)"
      ]
     },
     "execution_count": 69,
     "metadata": {},
     "output_type": "execute_result"
    }
   ],
   "source": [
    "crossover(parents)"
   ]
  },
  {
   "cell_type": "markdown",
   "id": "f38c729b",
   "metadata": {},
   "source": [
    "# Addition Mutation Operator (Original)"
   ]
  },
  {
   "cell_type": "code",
   "execution_count": null,
   "id": "adca52d0",
   "metadata": {},
   "outputs": [],
   "source": [
    "def neighbors(path, map_shape):\n",
    "    assert type(map_shape) == tuple\n",
    "    assert len(map_shape) == 2\n",
    "    m,n = map_shape\n",
    "    \n",
    "    \n",
    "def mutation(offsprings, map_shape):\n",
    "    for i in offsprings.shape:\n",
    "        "
   ]
  }
 ],
 "metadata": {
  "kernelspec": {
   "display_name": "Python 3 (ipykernel)",
   "language": "python",
   "name": "python3"
  },
  "language_info": {
   "codemirror_mode": {
    "name": "ipython",
    "version": 3
   },
   "file_extension": ".py",
   "mimetype": "text/x-python",
   "name": "python",
   "nbconvert_exporter": "python",
   "pygments_lexer": "ipython3",
   "version": "3.8.6"
  }
 },
 "nbformat": 4,
 "nbformat_minor": 5
}
