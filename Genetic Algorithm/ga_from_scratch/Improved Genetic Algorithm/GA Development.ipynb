{
 "cells": [
  {
   "cell_type": "markdown",
   "id": "5b4f005b",
   "metadata": {},
   "source": [
    "# Chromosome Encoding"
   ]
  },
  {
   "cell_type": "code",
   "execution_count": 6,
   "id": "0150a0ce",
   "metadata": {},
   "outputs": [
    {
     "data": {
      "text/plain": [
       "\"\\nI think I'll represent my chromosomes as follows:\\n    chromosome = np.array([(int,int)]) where int >= 0\\n    \\n    for example:\\n    inital_sol = np.array([(0,0), (1,1), (4,4), (8,8)])\\n\\n    the chromosomes should also not include the start and endpoint because that will never change.\\n\\n    np.array encapsulates it in numpy which makes it easier to work with since the software is \\n    wrapped in C for optimal performance.\\n\\n\\n\""
      ]
     },
     "execution_count": 6,
     "metadata": {},
     "output_type": "execute_result"
    }
   ],
   "source": [
    "'''\n",
    "I think I'll represent my chromosomes as follows:\n",
    "    chromosome = np.array([(int,int)]) where int >= 0\n",
    "    \n",
    "    for example:\n",
    "    inital_sol = np.array([(0,0), (1,1), (4,4), (8,8)])\n",
    "\n",
    "    the chromosomes should also not include the start and endpoint because that will never change.\n",
    "\n",
    "    np.array encapsulates it in numpy which makes it easier to work with since the software is \n",
    "    wrapped in C for optimal performance.\n",
    "\n",
    "\n",
    "'''"
   ]
  },
  {
   "cell_type": "markdown",
   "id": "c1dc4ce7",
   "metadata": {},
   "source": [
    "# Roulette Selection Operator"
   ]
  },
  {
   "cell_type": "code",
   "execution_count": 26,
   "id": "090f273e",
   "metadata": {},
   "outputs": [],
   "source": [
    "'''\n",
    "    creating functions for roulette selection\n",
    "'''\n",
    "import random\n",
    "import numpy as np\n",
    "def example_fitness(x):\n",
    "    return random.randint(0,5)\n",
    "def example_population(n: int):\n",
    "    return np.array([i for i in range(10)])\n",
    "def example_calc_fitness_prob(population, fitness_function):\n",
    "    fitness_pop = np.array([fitness_function(i) for i in population])\n",
    "    sum_fitness = np.sum(fitness_pop)\n",
    "    return (fitness_pop / sum_fitness) #probability list\n",
    "def roulette_selection(population, p_weights, n=2):\n",
    "    #n is number to choose from\n",
    "    return np.random.choice(population, 2, p=p_weights, replace=False)"
   ]
  },
  {
   "cell_type": "code",
   "execution_count": 27,
   "id": "3f2dcc55",
   "metadata": {},
   "outputs": [],
   "source": [
    "population = example_population(10)\n",
    "p_weights = example_calc_fitness_prob(population, example_fitness)\n",
    "selected = roulette_selection(population, p_weights)"
   ]
  },
  {
   "cell_type": "code",
   "execution_count": 567,
   "id": "d1faf421",
   "metadata": {},
   "outputs": [
    {
     "data": {
      "text/plain": [
       "array([0, 1, 2, 3, 4, 5, 6, 7, 8, 9])"
      ]
     },
     "execution_count": 567,
     "metadata": {},
     "output_type": "execute_result"
    }
   ],
   "source": [
    "population"
   ]
  },
  {
   "cell_type": "code",
   "execution_count": 28,
   "id": "4644ba9b",
   "metadata": {},
   "outputs": [
    {
     "data": {
      "text/plain": [
       "array([4, 8])"
      ]
     },
     "execution_count": 28,
     "metadata": {},
     "output_type": "execute_result"
    }
   ],
   "source": [
    "selected"
   ]
  },
  {
   "cell_type": "markdown",
   "id": "b9e6d8a0",
   "metadata": {},
   "source": [
    "# Single-Point Crossover"
   ]
  },
  {
   "cell_type": "markdown",
   "id": "ac75e5d7",
   "metadata": {},
   "source": [
    "Description: Single point crossover takes the longest length gene and uses the index <br>\n",
    "in the middle of path to split both of the paths being crossed over<br>"
   ]
  },
  {
   "cell_type": "code",
   "execution_count": 63,
   "id": "aefe7eba",
   "metadata": {},
   "outputs": [],
   "source": [
    "def crossover(parents: [[(int,int)]]):\n",
    "    '''\n",
    "        parents is a 2d matrix with each row representing a parent path\n",
    "                    each column represents nth point of the path.\n",
    "                    \n",
    "        offspring_size is a 2d matrix too that represents the same thing\n",
    "    '''\n",
    "    #initial checks\n",
    "    assert parents.shape[0] >= 2\n",
    "    assert parents.shape[0] % 2 == 0\n",
    "    assert len(parents[0]) != 0\n",
    "    \n",
    "    offspring = []\n",
    "    for i in range(0,parents.shape[0],2): #iterate through each parent by 2\n",
    "        parent1_idx,parent2_idx = i,i+1\n",
    "        crossover_point = max(len(parents[parent1_idx]),len(parents[parent2_idx])) // 2\n",
    "        offspring_path1 = parents[parent1_idx][0:crossover_point] + parents[parent2_idx][crossover_point:]\n",
    "        offspring_path2 = parents[parent2_idx][0:crossover_point] + parents[parent1_idx][crossover_point:]\n",
    "        \n",
    "        offspring.append(offspring_path1)\n",
    "        offspring.append(offspring_path2)\n",
    "        \n",
    "    offspring = np.array(offspring,dtype=object)\n",
    "    return offspring"
   ]
  },
  {
   "cell_type": "code",
   "execution_count": 91,
   "id": "a6171a43",
   "metadata": {},
   "outputs": [],
   "source": [
    "parents = np.array([[(0,1),(1,2),(3,3)],\n",
    "                    [(2,2),(9,9),(2,2),(8,8)],\n",
    "                    [(1,1),(2,2),(3,3),(4,4),(5,5)],\n",
    "                    [(8,8)],\n",
    "                    [(1,2),(2,3),(3,4),(4,5),(5,6),(6,7),(7,8)],\n",
    "                    [(10,11),(11,12)]],dtype=object)\n"
   ]
  },
  {
   "cell_type": "code",
   "execution_count": 92,
   "id": "9051589e",
   "metadata": {},
   "outputs": [
    {
     "data": {
      "text/plain": [
       "array([list([(0, 1), (1, 2), (2, 2), (8, 8)]),\n",
       "       list([(2, 2), (9, 9), (3, 3)]), list([(1, 1), (2, 2)]),\n",
       "       list([(8, 8), (3, 3), (4, 4), (5, 5)]),\n",
       "       list([(1, 2), (2, 3), (3, 4)]),\n",
       "       list([(10, 11), (11, 12), (4, 5), (5, 6), (6, 7), (7, 8)])],\n",
       "      dtype=object)"
      ]
     },
     "execution_count": 92,
     "metadata": {},
     "output_type": "execute_result"
    }
   ],
   "source": [
    "crossover(parents)"
   ]
  },
  {
   "cell_type": "markdown",
   "id": "0b14f656",
   "metadata": {},
   "source": [
    "## Bresenham Line Generation algorithm for Mutation operator"
   ]
  },
  {
   "cell_type": "code",
   "execution_count": 201,
   "id": "24feeea4",
   "metadata": {},
   "outputs": [],
   "source": [
    "def bresenham(x0: int, y0: int, x1: int, y1: int):\n",
    "    if x1-x0 == 0:\n",
    "        dy = y1-y0\n",
    "        sig = 1 if dy > 0 else -1\n",
    "        path_list = [(x0,y0+sig*i) for i in range(sig*dy+1)]\n",
    "    elif y1-y0 == 0:\n",
    "        dx = x1-x0\n",
    "        sig = 1 if dx > 0 else -1\n",
    "        path_list = [(x0+sig*i,y0) for i in range(sig*dx+1)]\n",
    "    else:\n",
    "        dx = abs(x1-x0)\n",
    "        sx = 1 if x0<x1 else -1\n",
    "        dy = -abs(y1-y0)\n",
    "        sy = 1 if y0 < y1 else -1\n",
    "        err = dx+dy\n",
    "        path_list = []\n",
    "        x = x0\n",
    "        y = y0\n",
    "        while (x != x1 or y != y1):\n",
    "            path_list.append( (x,y) )\n",
    "            e2 = 2*err\n",
    "            if (e2>=dy):\n",
    "                err += dy\n",
    "                x += sx\n",
    "            if (e2 <= dx):\n",
    "                err += dx\n",
    "                y += sy\n",
    "\n",
    "        path_list.append( (x,y) )\n",
    "    \n",
    "    path_list.remove( (x0,y0) )\n",
    "    path_list.remove( (x1,y1) )\n",
    "    return path_list"
   ]
  },
  {
   "cell_type": "code",
   "execution_count": 202,
   "id": "cfbc8dc6",
   "metadata": {},
   "outputs": [
    {
     "data": {
      "text/plain": [
       "[(1, 1), (2, 2), (3, 3), (4, 4), (5, 5), (6, 6), (7, 7), (8, 8), (9, 9)]"
      ]
     },
     "execution_count": 202,
     "metadata": {},
     "output_type": "execute_result"
    }
   ],
   "source": [
    "bresenham(0,0,10,10)"
   ]
  },
  {
   "cell_type": "code",
   "execution_count": 203,
   "id": "c605be48",
   "metadata": {
    "scrolled": true
   },
   "outputs": [
    {
     "data": {
      "text/plain": [
       "[(-9, -9),\n",
       " (-8, -9),\n",
       " (-7, -8),\n",
       " (-6, -7),\n",
       " (-5, -7),\n",
       " (-4, -6),\n",
       " (-3, -5),\n",
       " (-2, -5),\n",
       " (-1, -4),\n",
       " (0, -3),\n",
       " (1, -3),\n",
       " (2, -2),\n",
       " (3, -1),\n",
       " (4, -1)]"
      ]
     },
     "execution_count": 203,
     "metadata": {},
     "output_type": "execute_result"
    }
   ],
   "source": [
    "bresenham(-10,-10,5,0)"
   ]
  },
  {
   "cell_type": "code",
   "execution_count": 204,
   "id": "d20dc2d2",
   "metadata": {
    "scrolled": false
   },
   "outputs": [
    {
     "data": {
      "text/plain": [
       "[]"
      ]
     },
     "execution_count": 204,
     "metadata": {},
     "output_type": "execute_result"
    }
   ],
   "source": [
    "bresenham(0,0,1,0)"
   ]
  },
  {
   "cell_type": "code",
   "execution_count": 205,
   "id": "c052e22c",
   "metadata": {
    "scrolled": true
   },
   "outputs": [
    {
     "data": {
      "text/plain": [
       "[(-4, 0), (-3, 0), (-2, 0), (-1, 0), (0, 0), (1, 0), (2, 0), (3, 0), (4, 0)]"
      ]
     },
     "execution_count": 205,
     "metadata": {},
     "output_type": "execute_result"
    }
   ],
   "source": [
    "bresenham(-5,0,5,0)"
   ]
  },
  {
   "cell_type": "markdown",
   "id": "691326d7",
   "metadata": {},
   "source": [
    "# Addition Mutation Operator"
   ]
  },
  {
   "cell_type": "code",
   "execution_count": 269,
   "id": "19640ba4",
   "metadata": {},
   "outputs": [],
   "source": [
    "def random_node_selection(path, start, end):\n",
    "    random_select_idx = random.randint(0,len(path)-1)\n",
    "    random_select = path[random_select_idx]\n",
    "    \n",
    "    if random_select_idx == 0:\n",
    "        neighbor_back = start\n",
    "        neighbor_front = path[random_select_idx + 1]\n",
    "    elif random_select_idx == len(path)-1:\n",
    "        neighbor_back = path[random_select_idx - 1]\n",
    "        neighbor_front = end\n",
    "    else:\n",
    "        neighbor_back = path[random_select_idx - 1]\n",
    "        neighbor_front = path[random_select_idx + 1]\n",
    "    \n",
    "    return (neighbor_back, random_select, random_select_idx, neighbor_front)"
   ]
  },
  {
   "cell_type": "code",
   "execution_count": 270,
   "id": "f5de1786",
   "metadata": {},
   "outputs": [],
   "source": [
    "'''\n",
    "    chooses random node\n",
    "    finds node neighbors\n",
    "    finds grid intersections of line segments between node neighbors and node\n",
    "    chooses a random grid from each intersection set\n",
    "    connects those grids together to replace the random grid\n",
    "    update path\n",
    "'''\n",
    "\n",
    "def mutation_addition(offsprings, start, end):\n",
    "    size = offsprings.shape[0]\n",
    "    for i in range(size):\n",
    "        path = offsprings[i]\n",
    "        neighbor_back, random_select, random_select_idx, neighbor_front = \\\n",
    "                random_node_selection(path,start,end)\n",
    "        \n",
    "        x0,y0 = neighbor_back\n",
    "        x1,y1 = random_select\n",
    "        bresenham_back = bresenham(x0,y0,x1,y1)\n",
    "        \n",
    "        x0,y0 = random_select\n",
    "        x1,y1 = neighbor_front\n",
    "        bresenham_front = bresenham(x0,y0,x1,y1)\n",
    "        \n",
    "        len_bresenham_back = len(bresenham_back)\n",
    "        len_bresenham_front = len(bresenham_front)\n",
    "        \n",
    "        selected_back = bresenham_back[random.randint(0,len_bresenham_back-1)] \\\n",
    "                        if len_bresenham_back != 0 else neighbor_back\n",
    "        selected_front = bresenham_front[random.randint(0,len_bresenham_front-1)] \\\n",
    "                        if len_bresenham_front != 0 else neighbor_front\n",
    "        \n",
    "        if selected_back != start and selected_back != neighbor_back:\n",
    "            path[random_select_idx] = selected_back\n",
    "        if selected_front != end and selected_front != neighbor_front \\\n",
    "            and selected_front != selected_back:\n",
    "                path.insert(random_select_idx+1,selected_front)\n",
    "        "
   ]
  },
  {
   "cell_type": "code",
   "execution_count": 271,
   "id": "05b36152",
   "metadata": {},
   "outputs": [
    {
     "name": "stdout",
     "output_type": "stream",
     "text": [
      "[list([(0, 1), (1, 2), (2, 2), (8, 8)]) list([(2, 2), (9, 9), (3, 3)])\n",
      " list([(1, 1), (2, 2)]) list([(8, 8), (3, 3), (4, 4), (5, 5)])\n",
      " list([(1, 2), (2, 3), (3, 4)])\n",
      " list([(10, 11), (11, 12), (4, 5), (5, 6), (6, 7), (7, 8)])]\n"
     ]
    }
   ],
   "source": [
    "offsprings = crossover(parents)\n",
    "print(offsprings)\n",
    "mutation_addition(offsprings, (0,0), (11,11))"
   ]
  },
  {
   "cell_type": "code",
   "execution_count": 272,
   "id": "64f0d172",
   "metadata": {},
   "outputs": [
    {
     "data": {
      "text/plain": [
       "array([list([(0, 1), (1, 2), (2, 2), (7, 7), (8, 8)]),\n",
       "       list([(1, 1), (8, 8), (9, 9), (3, 3)]),\n",
       "       list([(1, 1), (2, 2), (6, 6)]),\n",
       "       list([(8, 8), (3, 3), (4, 4), (5, 5)]),\n",
       "       list([(1, 1), (2, 3), (3, 4)]),\n",
       "       list([(10, 11), (11, 12), (4, 5), (5, 6), (6, 7), (7, 8), (9, 10)])],\n",
       "      dtype=object)"
      ]
     },
     "execution_count": 272,
     "metadata": {},
     "output_type": "execute_result"
    }
   ],
   "source": [
    "offsprings #updated from mutation"
   ]
  },
  {
   "cell_type": "markdown",
   "id": "5a363a19",
   "metadata": {},
   "source": [
    "# Removal Mutation Operator"
   ]
  },
  {
   "cell_type": "code",
   "execution_count": 298,
   "id": "4f3ce78a",
   "metadata": {},
   "outputs": [],
   "source": [
    "'''\n",
    "SETUP HELPER FUNCTIONS\n",
    "'''\n",
    "from vector import Vector\n",
    "def obstacle_threshold(start: (int,int), obstacle: (int,int)): # (x,y) returns (low, high)\n",
    "    obj_vec = Vector(abs(obstacle[0] - start[0]) , abs(obstacle[1] - start[1]))\n",
    "\n",
    "    tl = obj_vec + Vector(-0.5,0.5)\n",
    "    tr = obj_vec + Vector(0.5,0.5)\n",
    "    bl = obj_vec + Vector(-0.5,-0.5)\n",
    "    br = obj_vec + Vector(0.5,-0.5)\n",
    "\n",
    "\n",
    "    ls_angle = np.array([i.angle() for i in [tl,tr,bl,br]])\n",
    "\n",
    "    min_ls_angle = min(ls_angle)\n",
    "    max_ls_angle = max(ls_angle)\n",
    "    return (min_ls_angle, max_ls_angle)\n",
    "\n",
    "def sign(x):\n",
    "    if x>=0:\n",
    "        return 1\n",
    "    else:\n",
    "        return -1\n",
    "\n",
    "def obstacle_obstructed(start: (int,int), end: (int,int), obstacle: (int,int)):\n",
    "    traj_vector = np.array([end[0] - start[0], end[1] - start[1]])\n",
    "    obj_vector = np.array([obstacle[0] - start[0], obstacle[1] - start[1]])\n",
    "\n",
    "    obj_2_traj = traj_vector - obj_vector\n",
    "\n",
    "    traj_vector = Vector(end[0] - start[0], end[1] - start[1])\n",
    "    obj_vector = Vector(obstacle[0] - start[0], obstacle[1] - start[1])\n",
    "\n",
    "    dot = traj_vector * obj_vector\n",
    "\n",
    "    if dot <= 0: #if it is at or in front of obstacle, then is gud\n",
    "        return False\n",
    "\n",
    "    sig_x = sign(obj_vector.x)\n",
    "    sig_y = sign(obj_vector.y)\n",
    "    traj_vector.x *= sig_x\n",
    "    traj_vector.y *= sig_y\n",
    "\n",
    "    obj_vector.x *= sig_x\n",
    "    obj_vector.y *= sig_y\n",
    "\n",
    "    angle_traj = traj_vector.angle()\n",
    "    threshold = obstacle_threshold(start, obstacle)\n",
    "\n",
    "    return threshold[0] <= angle_traj <= threshold[1]\n"
   ]
  },
  {
   "cell_type": "code",
   "execution_count": 454,
   "id": "a204e9e4",
   "metadata": {},
   "outputs": [],
   "source": [
    "'''\n",
    "Visible Space function from notebook\n",
    "'''\n",
    "def visible_space(start: (int,int), free_space: [(int,int)], obstacles: [(int,int)]):\n",
    "    return [space for space in free_space \\\n",
    "            if not np.any([obstacle_obstructed(start, space, obstacle) for obstacle in obstacles])]\n",
    "\n",
    "def visible_space_set(start: (int,int), free_space: [(int,int)], obstacles: [(int,int)]):\n",
    "    return {space for space in free_space \\\n",
    "            if not np.any([obstacle_obstructed(start, space, obstacle) for obstacle in obstacles])}\n",
    "            "
   ]
  },
  {
   "cell_type": "code",
   "execution_count": 562,
   "id": "ce09eb70",
   "metadata": {},
   "outputs": [],
   "source": [
    "def mutation_removal(offsprings, start, end, obstacles, free_space):\n",
    "    size = offsprings.shape[0]\n",
    "    modif_path = []\n",
    "    for i in range(size):\n",
    "        path = offsprings[i]\n",
    "        init, random_select, random_select_idx, final = \\\n",
    "                random_node_selection(path,start,end)\n",
    "        \n",
    "        \n",
    "        if not any([obstacle_obstructed(init,final,obstacle) for obstacle in obstacles]):\n",
    "            path.pop(random_select_idx)"
   ]
  },
  {
   "cell_type": "code",
   "execution_count": 563,
   "id": "80b3b562",
   "metadata": {},
   "outputs": [],
   "source": [
    "offsprings = np.array([[(1,3),(2,2)],\\\n",
    "                       [(1,4),(5,4),(5,3)]],dtype=object)\n",
    "obstacles = [(2,3),(3,3),(4,3),(2,5),(3,5),(4,5)]\n",
    "free_space = [(1,1),(2,1),(3,1),(4,1),(5,1),(1,2),(2,2),(3,2),(4,2),(5,2),\\\n",
    "                (1,3),(5,3),(1,4),(2,4),(3,4),(4,4),(5,4),\\\n",
    "                 (1,5),(5,5)]"
   ]
  },
  {
   "cell_type": "code",
   "execution_count": 564,
   "id": "73f1da1f",
   "metadata": {},
   "outputs": [
    {
     "data": {
      "text/plain": [
       "array([list([(1, 3), (2, 2)]), list([(1, 4), (5, 4), (5, 3)])],\n",
       "      dtype=object)"
      ]
     },
     "execution_count": 564,
     "metadata": {},
     "output_type": "execute_result"
    }
   ],
   "source": [
    "offsprings"
   ]
  },
  {
   "cell_type": "code",
   "execution_count": 565,
   "id": "9bccf8de",
   "metadata": {},
   "outputs": [],
   "source": [
    "mutation_removal(offsprings,(1,5),(5,2),obstacles,free_space)"
   ]
  },
  {
   "cell_type": "code",
   "execution_count": 568,
   "id": "cedb7448",
   "metadata": {},
   "outputs": [
    {
     "data": {
      "text/plain": [
       "array([list([(1, 3), (2, 2)]), list([(1, 4), (5, 4)])], dtype=object)"
      ]
     },
     "execution_count": 568,
     "metadata": {},
     "output_type": "execute_result"
    }
   ],
   "source": [
    "offsprings"
   ]
  },
  {
   "cell_type": "code",
   "execution_count": 569,
   "id": "eab22c5a",
   "metadata": {},
   "outputs": [
    {
     "data": {
      "text/plain": [
       "[(2, 3), (3, 3), (4, 3), (2, 5), (3, 5), (4, 5)]"
      ]
     },
     "execution_count": 569,
     "metadata": {},
     "output_type": "execute_result"
    }
   ],
   "source": [
    "obstacles"
   ]
  },
  {
   "cell_type": "code",
   "execution_count": 571,
   "id": "f08facbb",
   "metadata": {},
   "outputs": [],
   "source": [
    "a = np.zeros(shape=(5,5))\n",
    "a[0,0] = 1"
   ]
  },
  {
   "cell_type": "code",
   "execution_count": 590,
   "id": "3d8aa65f",
   "metadata": {},
   "outputs": [
    {
     "data": {
      "text/plain": [
       "array([[1, 0],\n",
       "       [2, 0],\n",
       "       [3, 0],\n",
       "       [4, 0],\n",
       "       [0, 1],\n",
       "       [1, 1],\n",
       "       [2, 1],\n",
       "       [3, 1],\n",
       "       [4, 1],\n",
       "       [0, 2],\n",
       "       [1, 2],\n",
       "       [2, 2],\n",
       "       [3, 2],\n",
       "       [4, 2],\n",
       "       [0, 3],\n",
       "       [1, 3],\n",
       "       [2, 3],\n",
       "       [3, 3],\n",
       "       [4, 3],\n",
       "       [0, 4],\n",
       "       [1, 4],\n",
       "       [2, 4],\n",
       "       [3, 4],\n",
       "       [4, 4]], dtype=int64)"
      ]
     },
     "execution_count": 590,
     "metadata": {},
     "output_type": "execute_result"
    }
   ],
   "source": [
    "np.array(list(zip(*np.where(a==0))))[:,::-1]"
   ]
  },
  {
   "cell_type": "code",
   "execution_count": 575,
   "id": "ae47dd57",
   "metadata": {
    "scrolled": true
   },
   "outputs": [
    {
     "data": {
      "text/plain": [
       "array([1.])"
      ]
     },
     "execution_count": 575,
     "metadata": {},
     "output_type": "execute_result"
    }
   ],
   "source": [
    "a[np.where(a==1)]"
   ]
  },
  {
   "cell_type": "code",
   "execution_count": 584,
   "id": "e8a69b4c",
   "metadata": {},
   "outputs": [
    {
     "data": {
      "text/plain": [
       "array([0, 0, 0, 0, 1, 1, 1, 1, 1, 2, 2, 2, 2, 2, 3, 3, 3, 3, 3, 4, 4, 4,\n",
       "       4, 4, 1, 2, 3, 4, 0, 1, 2, 3, 4, 0, 1, 2, 3, 4, 0, 1, 2, 3, 4, 0,\n",
       "       1, 2, 3, 4], dtype=int64)"
      ]
     },
     "execution_count": 584,
     "metadata": {},
     "output_type": "execute_result"
    }
   ],
   "source": []
  },
  {
   "cell_type": "code",
   "execution_count": null,
   "id": "5de1e791",
   "metadata": {},
   "outputs": [],
   "source": []
  }
 ],
 "metadata": {
  "kernelspec": {
   "display_name": "Python 3 (ipykernel)",
   "language": "python",
   "name": "python3"
  },
  "language_info": {
   "codemirror_mode": {
    "name": "ipython",
    "version": 3
   },
   "file_extension": ".py",
   "mimetype": "text/x-python",
   "name": "python",
   "nbconvert_exporter": "python",
   "pygments_lexer": "ipython3",
   "version": "3.8.6"
  }
 },
 "nbformat": 4,
 "nbformat_minor": 5
}
