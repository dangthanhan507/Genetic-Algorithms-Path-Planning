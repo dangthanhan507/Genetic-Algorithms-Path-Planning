{
 "cells": [
  {
   "cell_type": "markdown",
   "id": "f72b7724",
   "metadata": {},
   "source": [
    "# Chromosome Encoding"
   ]
  },
  {
   "cell_type": "code",
   "execution_count": 6,
   "id": "94e9cbc0",
   "metadata": {},
   "outputs": [
    {
     "data": {
      "text/plain": [
       "\"\\nI think I'll represent my chromosomes as follows:\\n    chromosome = np.array([(int,int)]) where int >= 0\\n    \\n    for example:\\n    inital_sol = np.array([(0,0), (1,1), (4,4), (8,8)])\\n\\n    the chromosomes should also not include the start and endpoint because that will never change.\\n\\n    np.array encapsulates it in numpy which makes it easier to work with since the software is \\n    wrapped in C for optimal performance.\\n\\n\\n\""
      ]
     },
     "execution_count": 6,
     "metadata": {},
     "output_type": "execute_result"
    }
   ],
   "source": [
    "'''\n",
    "I think I'll represent my chromosomes as follows:\n",
    "    chromosome = np.array([(int,int)]) where int >= 0\n",
    "    \n",
    "    for example:\n",
    "    inital_sol = np.array([(0,0), (1,1), (4,4), (8,8)])\n",
    "\n",
    "    the chromosomes should also not include the start and endpoint because that will never change.\n",
    "\n",
    "    np.array encapsulates it in numpy which makes it easier to work with since the software is \n",
    "    wrapped in C for optimal performance.\n",
    "\n",
    "\n",
    "'''"
   ]
  },
  {
   "cell_type": "markdown",
   "id": "e6d929f5",
   "metadata": {},
   "source": [
    "# Roulette Selection Operator"
   ]
  },
  {
   "cell_type": "code",
   "execution_count": 26,
   "id": "0bffeb40",
   "metadata": {},
   "outputs": [],
   "source": [
    "'''\n",
    "    creating functions for roulette selection\n",
    "'''\n",
    "import random\n",
    "import numpy as np\n",
    "def example_fitness(x):\n",
    "    return random.randint(0,5)\n",
    "def example_population(n: int):\n",
    "    return np.array([i for i in range(10)])\n",
    "def example_calc_fitness_prob(population, fitness_function):\n",
    "    fitness_pop = np.array([fitness_function(i) for i in population])\n",
    "    sum_fitness = np.sum(fitness_pop)\n",
    "    return (fitness_pop / sum_fitness) #probability list\n",
    "def roulette_selection(population, p_weights, n=2):\n",
    "    #n is number to choose from\n",
    "    return np.random.choice(population, 2, p=p_weights, replace=False)"
   ]
  },
  {
   "cell_type": "code",
   "execution_count": 27,
   "id": "f1f16be7",
   "metadata": {},
   "outputs": [],
   "source": [
    "population = example_population(10)\n",
    "p_weights = example_calc_fitness_prob(population, example_fitness)\n",
    "selected = roulette_selection(population, p_weights)"
   ]
  },
  {
   "cell_type": "code",
   "execution_count": 28,
   "id": "a6f9b766",
   "metadata": {},
   "outputs": [
    {
     "data": {
      "text/plain": [
       "array([4, 8])"
      ]
     },
     "execution_count": 28,
     "metadata": {},
     "output_type": "execute_result"
    }
   ],
   "source": [
    "selected"
   ]
  },
  {
   "cell_type": "code",
   "execution_count": null,
   "id": "fafdea9e",
   "metadata": {},
   "outputs": [],
   "source": []
  }
 ],
 "metadata": {
  "kernelspec": {
   "display_name": "Python 3 (ipykernel)",
   "language": "python",
   "name": "python3"
  },
  "language_info": {
   "codemirror_mode": {
    "name": "ipython",
    "version": 3
   },
   "file_extension": ".py",
   "mimetype": "text/x-python",
   "name": "python",
   "nbconvert_exporter": "python",
   "pygments_lexer": "ipython3",
   "version": "3.8.6"
  }
 },
 "nbformat": 4,
 "nbformat_minor": 5
}
