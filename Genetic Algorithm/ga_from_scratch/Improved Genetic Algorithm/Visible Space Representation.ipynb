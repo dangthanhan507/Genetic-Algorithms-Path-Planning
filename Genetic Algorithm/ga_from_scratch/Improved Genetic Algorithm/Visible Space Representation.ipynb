{
 "cells": [
  {
   "cell_type": "code",
   "execution_count": 4,
   "id": "cc9c688b",
   "metadata": {},
   "outputs": [],
   "source": [
    "import numpy as np\n",
    "import math\n",
    "from vector import Vector"
   ]
  },
  {
   "cell_type": "code",
   "execution_count": 5,
   "id": "c6ec9138",
   "metadata": {},
   "outputs": [
    {
     "data": {
      "text/plain": [
       "'\\nSoftware to test visible space representation presented in\\nhttps://journals.sagepub.com/doi/full/10.5772/63484\\n\\nDynamic Path planning on Mobile Robot based on Visible Space and Improved GA.\\n'"
      ]
     },
     "execution_count": 5,
     "metadata": {},
     "output_type": "execute_result"
    }
   ],
   "source": [
    "'''\n",
    "Software to test visible space representation presented in\n",
    "https://journals.sagepub.com/doi/full/10.5772/63484\n",
    "\n",
    "Dynamic Path planning on Mobile Robot based on Visible Space and Improved GA.\n",
    "'''"
   ]
  },
  {
   "cell_type": "code",
   "execution_count": 35,
   "id": "60c10b4c",
   "metadata": {},
   "outputs": [
    {
     "data": {
      "text/plain": [
       "array([[0., 0., 0., 0., 0.],\n",
       "       [0., 1., 1., 1., 0.],\n",
       "       [0., 1., 1., 1., 0.],\n",
       "       [0., 1., 1., 1., 0.],\n",
       "       [0., 0., 0., 0., 0.]])"
      ]
     },
     "execution_count": 35,
     "metadata": {},
     "output_type": "execute_result"
    }
   ],
   "source": [
    "map1 = np.zeros(shape=(5,5))\n",
    "obstacles = np.array([(2,2),(2,3),(2,4),(3,2),(3,3),(3,4),(4,2),(4,3),(4,4)])\n",
    "free_space = np.array([(1,1),(1,2),(1,3),(1,4),(1,5),(2,1),(2,5),(3,1),\\\n",
    "                      (3,5),(4,1),(4,5),(5,1),(5,2),(5,3),(5,4),(5,5)])\n",
    "for i,j in obstacles:\n",
    "    map1[i-1,j-1] = 1\n",
    "map1"
   ]
  },
  {
   "cell_type": "code",
   "execution_count": 36,
   "id": "1e3dfa4f",
   "metadata": {},
   "outputs": [],
   "source": [
    "def get_outer_envelope(obstacles_array, map_array):\n",
    "    transition_points = set()\n",
    "    row_transition = set()\n",
    "    col_transition = set()\n",
    "    for j,i in obstacles_array:\n",
    "        i -= 1\n",
    "        j -= 1\n",
    "        dir_list = ['left','right','up','down']\n",
    "        if i == 0:\n",
    "            dir_list.remove('up')\n",
    "        if i == map_array.shape[0]-1:\n",
    "            dir_list.remove('down')\n",
    "        if j == 0:\n",
    "            dir_list.remove('left')\n",
    "        if j == map_array.shape[1]-1:\n",
    "            dir_list.remove('right')\n",
    "\n",
    "\n",
    "        for direction in dir_list:\n",
    "            if direction == 'left':\n",
    "                if map_array[i,j-1] == 0:\n",
    "                    row_transition.add( (i+1,j+1) )\n",
    "            elif direction == 'right':\n",
    "                if map_array[i,j+1] == 0:\n",
    "                    row_transition.add( (i+1,j+1) )\n",
    "            if direction == 'up':\n",
    "                if map_array[i-1,j] == 0:\n",
    "                    col_transition.add( (i+1,j+1) )\n",
    "            elif direction == 'down':\n",
    "                if map_array[i+1,j] == 0:\n",
    "                    col_transition.add( (i+1,j+1) )\n",
    "\n",
    "                    \n",
    "        transition_points = row_transition & col_transition\n",
    "    return transition_points"
   ]
  },
  {
   "cell_type": "code",
   "execution_count": 37,
   "id": "d2cf27aa",
   "metadata": {},
   "outputs": [
    {
     "data": {
      "text/plain": [
       "{(2, 2), (2, 4), (4, 2), (4, 4)}"
      ]
     },
     "execution_count": 37,
     "metadata": {},
     "output_type": "execute_result"
    }
   ],
   "source": [
    "get_outer_envelope(obstacles, map1)"
   ]
  },
  {
   "cell_type": "code",
   "execution_count": 38,
   "id": "e634048c",
   "metadata": {},
   "outputs": [],
   "source": [
    "def get_vertices(node: (int,int)):\n",
    "    i,j = node\n",
    "    low_lef = (i-1,j-1)\n",
    "    low_rig = (i,j-1)\n",
    "    \n",
    "    up_lef = (i-1,j)\n",
    "    up_rig = (i,j)\n",
    "    center = (i-0.5,j-0.5)\n",
    "    return [low_lef,low_rig,up_lef,up_rig,center]"
   ]
  },
  {
   "cell_type": "code",
   "execution_count": 39,
   "id": "63a64183",
   "metadata": {},
   "outputs": [
    {
     "data": {
      "text/plain": [
       "[(1, 1), (2, 1), (1, 2), (2, 2), (1.5, 1.5)]"
      ]
     },
     "execution_count": 39,
     "metadata": {},
     "output_type": "execute_result"
    }
   ],
   "source": [
    "get_vertices( (2,2) )"
   ]
  },
  {
   "cell_type": "code",
   "execution_count": 40,
   "id": "bd6410cc",
   "metadata": {},
   "outputs": [],
   "source": [
    "def neighborhood_relation(grid: (int,int), neighbor: (int,int)):\n",
    "    i,j = grid\n",
    "    s,k = neighbor\n",
    "    \n",
    "    i-=1\n",
    "    j-=1\n",
    "    s-=1\n",
    "    k-=1\n",
    "    \n",
    "    if (abs(i-s) == 0 and (j-k) == 1) \\\n",
    "        or (abs(i-s)==0 and (j-k) == -1):\n",
    "        return 'same-row'\n",
    "    elif ((i-s)==1 and abs(j-k)==0) \\\n",
    "        or ((i-s)==-1 and abs(j-k)==0):\n",
    "        return 'same-col'\n",
    "    elif ((i-s)==1 and (j-k)==1) or \\\n",
    "            ((i-s)==1 and (j-k)==-1) or \\\n",
    "            ((i-s)==-1 and (j-k)==1) or \\\n",
    "            ((i-s)==-1 and (j-k)==-1):\n",
    "        return 'same-diagonal'\n",
    "    else:\n",
    "        return 'None'\n",
    "    \n",
    "    "
   ]
  },
  {
   "cell_type": "code",
   "execution_count": 41,
   "id": "e6fb24d5",
   "metadata": {},
   "outputs": [],
   "source": [
    "def get_effective_vertices(vertices: [(float,float)], grid: (int,int)):\n",
    "    return [vertex for vertex in vertices \\\n",
    "            if neighborhood_relation(grid,vertex) != 'None']\n"
   ]
  },
  {
   "cell_type": "code",
   "execution_count": 42,
   "id": "9e886a50",
   "metadata": {},
   "outputs": [
    {
     "data": {
      "text/plain": [
       "[(3, 3), (4, 3), (3, 4)]"
      ]
     },
     "execution_count": 42,
     "metadata": {},
     "output_type": "execute_result"
    }
   ],
   "source": [
    "get_effective_vertices( get_vertices( (4,4) ), (4,4) )"
   ]
  },
  {
   "cell_type": "code",
   "execution_count": null,
   "id": "daf66847",
   "metadata": {},
   "outputs": [],
   "source": [
    "def get_line_seg(effective_vertices: [(int,int)], )"
   ]
  }
 ],
 "metadata": {
  "kernelspec": {
   "display_name": "Python 3 (ipykernel)",
   "language": "python",
   "name": "python3"
  },
  "language_info": {
   "codemirror_mode": {
    "name": "ipython",
    "version": 3
   },
   "file_extension": ".py",
   "mimetype": "text/x-python",
   "name": "python",
   "nbconvert_exporter": "python",
   "pygments_lexer": "ipython3",
   "version": "3.8.6"
  }
 },
 "nbformat": 4,
 "nbformat_minor": 5
}
