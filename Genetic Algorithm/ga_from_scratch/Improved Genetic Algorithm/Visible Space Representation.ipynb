{
 "cells": [
  {
   "cell_type": "code",
   "execution_count": 1,
   "id": "cc9c688b",
   "metadata": {},
   "outputs": [],
   "source": [
    "import numpy as np"
   ]
  },
  {
   "cell_type": "code",
   "execution_count": 2,
   "id": "c6ec9138",
   "metadata": {},
   "outputs": [
    {
     "data": {
      "text/plain": [
       "'\\nSoftware to test visible space representation presented in\\nhttps://journals.sagepub.com/doi/full/10.5772/63484\\n\\nDynamic Path planning on Mobile Robot based on Visible Space and Improved GA.\\n'"
      ]
     },
     "execution_count": 2,
     "metadata": {},
     "output_type": "execute_result"
    }
   ],
   "source": [
    "'''\n",
    "Software to test visible space representation presented in\n",
    "https://journals.sagepub.com/doi/full/10.5772/63484\n",
    "\n",
    "Dynamic Path planning on Mobile Robot based on Visible Space and Improved GA.\n",
    "'''"
   ]
  },
  {
   "cell_type": "code",
   "execution_count": 9,
   "id": "60c10b4c",
   "metadata": {},
   "outputs": [
    {
     "data": {
      "text/plain": [
       "array([[0., 0., 0., 0., 0.],\n",
       "       [0., 1., 1., 1., 0.],\n",
       "       [0., 1., 1., 1., 0.],\n",
       "       [0., 1., 1., 1., 0.],\n",
       "       [0., 0., 0., 0., 0.]])"
      ]
     },
     "execution_count": 9,
     "metadata": {},
     "output_type": "execute_result"
    }
   ],
   "source": [
    "map1 = np.zeros(shape=(5,5))\n",
    "obstacles = np.array([(2,2),(2,3),(2,4),(3,2),(3,3),(3,4),(4,2),(4,3),(4,4)])\n",
    "for i,j in obstacles:\n",
    "    map1[i-1,j-1] = 1\n",
    "map1"
   ]
  },
  {
   "cell_type": "code",
   "execution_count": 41,
   "id": "1e3dfa4f",
   "metadata": {},
   "outputs": [],
   "source": [
    "def get_outer_envelope(obstacles_array, map_array):\n",
    "    transition_points = set()\n",
    "    row_transition = set()\n",
    "    col_transition = set()\n",
    "    for i,j in obstacles:\n",
    "        i -= 1\n",
    "        j -= 1\n",
    "        dir_list = ['left','right','up','down']\n",
    "        if i == 0:\n",
    "            dir_list.remove('up')\n",
    "        if i == map_array.shape[0]-1:\n",
    "            dir_list.remove('down')\n",
    "        if j == 0:\n",
    "            dir_list.remove('left')\n",
    "        if j == map_array.shape[1]-1:\n",
    "            dir_list.remove('right')\n",
    "\n",
    "\n",
    "        for direction in dir_list:\n",
    "            if direction == 'left':\n",
    "                if map_array[i,j-1] == 0:\n",
    "                    row_transition.add( (i+1,j+1) )\n",
    "            elif direction == 'right':\n",
    "                if map_array[i,j+1] == 0:\n",
    "                    row_transition.add( (i+1,j+1) )\n",
    "            if direction == 'up':\n",
    "                if map_array[i-1,j] == 0:\n",
    "                    col_transition.add( (i+1,j+1) )\n",
    "            elif direction == 'down':\n",
    "                if map_array[i+1,j] == 0:\n",
    "                    col_transition.add( (i+1,j+1) )\n",
    "\n",
    "                    \n",
    "        transition_points = row_transition & col_transition\n",
    "    return transition_points"
   ]
  },
  {
   "cell_type": "code",
   "execution_count": 42,
   "id": "d2cf27aa",
   "metadata": {},
   "outputs": [
    {
     "data": {
      "text/plain": [
       "{(2, 2), (2, 4), (4, 2), (4, 4)}"
      ]
     },
     "execution_count": 42,
     "metadata": {},
     "output_type": "execute_result"
    }
   ],
   "source": [
    "get_outer_envelope(obstacles, map1)"
   ]
  },
  {
   "cell_type": "code",
   "execution_count": null,
   "id": "e634048c",
   "metadata": {},
   "outputs": [],
   "source": []
  }
 ],
 "metadata": {
  "kernelspec": {
   "display_name": "Python 3 (ipykernel)",
   "language": "python",
   "name": "python3"
  },
  "language_info": {
   "codemirror_mode": {
    "name": "ipython",
    "version": 3
   },
   "file_extension": ".py",
   "mimetype": "text/x-python",
   "name": "python",
   "nbconvert_exporter": "python",
   "pygments_lexer": "ipython3",
   "version": "3.8.6"
  }
 },
 "nbformat": 4,
 "nbformat_minor": 5
}
