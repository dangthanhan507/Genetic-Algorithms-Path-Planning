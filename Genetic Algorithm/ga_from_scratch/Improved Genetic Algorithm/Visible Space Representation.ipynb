{
 "cells": [
  {
   "cell_type": "code",
   "execution_count": 1,
   "id": "cc9c688b",
   "metadata": {},
   "outputs": [],
   "source": [
    "import numpy as np\n",
    "import math\n",
    "from vector import Vector"
   ]
  },
  {
   "cell_type": "code",
   "execution_count": 2,
   "id": "c6ec9138",
   "metadata": {},
   "outputs": [
    {
     "data": {
      "text/plain": [
       "'\\nSoftware to test visible space representation presented in\\nhttps://journals.sagepub.com/doi/full/10.5772/63484\\n\\nDynamic Path planning on Mobile Robot based on Visible Space and Improved GA.\\n'"
      ]
     },
     "execution_count": 2,
     "metadata": {},
     "output_type": "execute_result"
    }
   ],
   "source": [
    "'''\n",
    "Software to test visible space representation presented in\n",
    "https://journals.sagepub.com/doi/full/10.5772/63484\n",
    "\n",
    "Dynamic Path planning on Mobile Robot based on Visible Space and Improved GA.\n",
    "'''"
   ]
  },
  {
   "cell_type": "code",
   "execution_count": 33,
   "id": "60c10b4c",
   "metadata": {},
   "outputs": [
    {
     "data": {
      "text/plain": [
       "array([[0., 0., 0., 0., 0.],\n",
       "       [0., 1., 1., 1., 0.],\n",
       "       [0., 1., 1., 1., 0.],\n",
       "       [0., 1., 1., 1., 0.],\n",
       "       [0., 0., 0., 0., 0.]])"
      ]
     },
     "execution_count": 33,
     "metadata": {},
     "output_type": "execute_result"
    }
   ],
   "source": [
    "map1 = np.zeros(shape=(5,5))\n",
    "obstacles = np.array([(2,2),(2,3),(2,4),(3,2),(3,3),(3,4),(4,2),(4,3),(4,4)])\n",
    "free_space = np.array([(1,1),(1,2),(1,3),(1,4),(1,5),(2,1),(2,5),(3,1),\\\n",
    "                      (3,5),(4,1),(4,5),(5,1),(5,2),(5,3),(5,4),(5,5)])\n",
    "for i,j in obstacles:\n",
    "    map1[i-1,j-1] = 1\n",
    "map1"
   ]
  },
  {
   "cell_type": "code",
   "execution_count": 29,
   "id": "1c9031ec",
   "metadata": {},
   "outputs": [],
   "source": [
    "def obstacle_threshold(start: (int,int), obstacle: (int,int)): # (x,y) returns (low, high)\n",
    "    obj_vec = Vector(abs(obstacle[0] - start[0]) , abs(obstacle[1] - start[1]))\n",
    "\n",
    "    tl = obj_vec + Vector(-0.5,0.5)\n",
    "    tr = obj_vec + Vector(0.5,0.5)\n",
    "    bl = obj_vec + Vector(-0.5,-0.5)\n",
    "    br = obj_vec + Vector(0.5,-0.5)\n",
    "\n",
    "\n",
    "    ls_angle = np.array([i.angle() for i in [tl,tr,bl,br]])\n",
    "\n",
    "    min_ls_angle = min(ls_angle)\n",
    "    max_ls_angle = max(ls_angle)\n",
    "    return (min_ls_angle, max_ls_angle)\n",
    "\n",
    "def sign(x):\n",
    "    if x>=0:\n",
    "        return 1\n",
    "    else:\n",
    "        return -1\n",
    "\n",
    "def obstacle_obstructed(start: (int,int), end: (int,int), obstacle: (int,int)):\n",
    "    traj_vector = np.array([end[0] - start[0], end[1] - start[1]])\n",
    "    obj_vector = np.array([obstacle[0] - start[0], obstacle[1] - start[1]])\n",
    "\n",
    "    obj_2_traj = traj_vector - obj_vector\n",
    "\n",
    "    traj_vector = Vector(end[0] - start[0], end[1] - start[1])\n",
    "    obj_vector = Vector(obstacle[0] - start[0], obstacle[1] - start[1])\n",
    "\n",
    "    dot = traj_vector * obj_vector\n",
    "\n",
    "    if dot <= 0: #if it is at or in front of obstacle, then is gud\n",
    "        return False\n",
    "\n",
    "    sig_x = sign(obj_vector.x)\n",
    "    sig_y = sign(obj_vector.y)\n",
    "    traj_vector.x *= sig_x\n",
    "    traj_vector.y *= sig_y\n",
    "\n",
    "    obj_vector.x *= sig_x\n",
    "    obj_vector.y *= sig_y\n",
    "\n",
    "    angle_traj = traj_vector.angle()\n",
    "    threshold = obstacle_threshold(start, obstacle)\n",
    "\n",
    "    return threshold[0] <= angle_traj <= threshold[1]\n"
   ]
  },
  {
   "cell_type": "markdown",
   "id": "0a46fca7",
   "metadata": {},
   "source": [
    "Software iterates through the free space given and then creates a subset of the freespace that has no obstacles obstructing it. <br> <br>\n",
    "\n",
    "The reason behind this is to make sure that the robot does not choose any impossible paths and that it is easier to have a convergence rate with a visible space representation. <br> <br>\n",
    "\n",
    "This does not follow the outer envelope algorithm described in the paper because I found it quite inaccurate. "
   ]
  },
  {
   "cell_type": "code",
   "execution_count": 38,
   "id": "ff86fee5",
   "metadata": {},
   "outputs": [],
   "source": [
    "def visible_space(start: (int,int), free_space: [(int,int)], obstacles: [(int,int)]):\n",
    "    return [space for space in free_space \\\n",
    "            if not np.any([obstacle_obstructed(start, space, obstacle) for obstacle in obstacles])]\n",
    "            "
   ]
  },
  {
   "cell_type": "code",
   "execution_count": 39,
   "id": "181ccabe",
   "metadata": {},
   "outputs": [
    {
     "data": {
      "text/plain": [
       "[array([1, 1]),\n",
       " array([1, 2]),\n",
       " array([1, 3]),\n",
       " array([1, 4]),\n",
       " array([1, 5]),\n",
       " array([2, 1]),\n",
       " array([3, 1]),\n",
       " array([4, 1]),\n",
       " array([5, 1])]"
      ]
     },
     "execution_count": 39,
     "metadata": {},
     "output_type": "execute_result"
    }
   ],
   "source": [
    "visible_space( (1,1), free_space, obstacles)"
   ]
  },
  {
   "cell_type": "code",
   "execution_count": null,
   "id": "55d4fc63",
   "metadata": {},
   "outputs": [],
   "source": []
  }
 ],
 "metadata": {
  "kernelspec": {
   "display_name": "Python 3 (ipykernel)",
   "language": "python",
   "name": "python3"
  },
  "language_info": {
   "codemirror_mode": {
    "name": "ipython",
    "version": 3
   },
   "file_extension": ".py",
   "mimetype": "text/x-python",
   "name": "python",
   "nbconvert_exporter": "python",
   "pygments_lexer": "ipython3",
   "version": "3.8.6"
  }
 },
 "nbformat": 4,
 "nbformat_minor": 5
}
