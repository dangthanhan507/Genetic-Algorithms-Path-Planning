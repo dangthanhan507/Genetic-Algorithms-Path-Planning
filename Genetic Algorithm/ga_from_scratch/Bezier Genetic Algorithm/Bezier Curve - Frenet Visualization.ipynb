{
 "cells": [
  {
   "cell_type": "markdown",
   "id": "790dec14",
   "metadata": {},
   "source": [
    "# Frenet Coordinates and Bezier Curves"
   ]
  },
  {
   "cell_type": "markdown",
   "id": "c7e8494d",
   "metadata": {},
   "source": [
    "## Explaining Frenet Coordinates"
   ]
  },
  {
   "cell_type": "markdown",
   "id": "96c18570",
   "metadata": {},
   "source": [
    "Frenet Coordinates are a model used on a vector space curve usign the coordinates <T,N,B> <br>\n",
    "For a vector-valued function $\\vec{r}(t)$ based on parameter t from a parametric curve <br> <br>\n",
    "\n",
    "$\\vec{T}(t) = \\frac{\\vec{r}'(t)}{||\\vec{r}'(t)||}$ where $\\vec{T}(t)$ is the unit tangent vector of $\\vec{r}(t)$ <br> <br>\n",
    "\n",
    "$\\vec{N}(t) = \\frac{\\vec{T}'(t)}{||\\vec{T}'(t)||}$ where $\\vec{N}(t)$ is the unit normal vector of $\\vec{r}(t)$ <br>\n",
    "$\\vec{N}(t) \\perp \\vec{T}(t)$ <br> <br>\n",
    "\n",
    "$\\vec{B}(t) = \\vec{T}(t) \\times \\vec{N}(t)$ where $\\vec{B}(t)$ is the unit binormal vector of $\\vec{r}(t)$ <br>\n",
    "$\\vec{B}(t) \\perp \\vec{T}(t)$ and $\\vec{B}(t) \\perp \\vec{N}(t)$ <br>\n",
    "\n",
    "$\\kappa(t) = \\frac{||\\vec{T}'(t)||}{||\\vec{r}'(t)||}$ where $\\kappa$ is the curvature of curve $\\vec{r}(t)$ <br>\n",
    "\n",
    "$\\tau(t) = -\\frac{1}{||\\vec{r}'(t)||} \\frac{d\\vec{B}(t)}{dt} \\cdot \\vec{N}(t)$ where $\\tau$ is the torsion of the curve $\\vec{r}(t)$ <br><br>\n",
    "\n",
    "\n",
    "The Frenet Coordinates are represented be a vector which is the $<\\vec{T},\\vec{N},\\vec{B}>$ of the curve <br>\n",
    "\n",
    "The equations about could also be reparametrized by the arclength travelled along the space curve which is labelled as s. <br>\n",
    "\n",
    "Total Arc Length of Curve = $\\int_{a}^{b} ||\\vec{r}'(t)|| \\,dt$ <br>\n",
    "s = $\\int_{a}^{t} ||\\vec{r}'(u)|| \\, du$ where $t \\in [a,b]$ Note*: u is just substituted to avoid confusion <br> <br>"
   ]
  },
  {
   "cell_type": "code",
   "execution_count": 71,
   "id": "dcdac145",
   "metadata": {},
   "outputs": [],
   "source": [
    "import math"
   ]
  },
  {
   "cell_type": "markdown",
   "id": "c255127b",
   "metadata": {},
   "source": [
    "### Vector Class"
   ]
  },
  {
   "cell_type": "code",
   "execution_count": 67,
   "id": "c23437f2",
   "metadata": {},
   "outputs": [],
   "source": [
    "#different from previous vector classes where this one has more functionality to accommodate for Frenet system \n",
    "class Vector:\n",
    "    def __init__(self, x: float, y: float, z:float = 0):\n",
    "        self.x = x\n",
    "        self.y = y\n",
    "        self.z = z\n",
    "        \n",
    "    #getter and setter methods for Vectors in general\n",
    "    def get_x(self):\n",
    "        return self.x\n",
    "    def get_y(self):\n",
    "        return self.y\n",
    "    def get_z(self):\n",
    "        return self.z\n",
    "    def __str__(self):\n",
    "        return f'<{self.x},{self.y},{self.z}>'\n",
    "    \n",
    "    def set_x(self, val):\n",
    "        self.x = val\n",
    "    def set_y(self, val):\n",
    "        self.y = val\n",
    "    def set_z(self, val):\n",
    "        self.z = val\n",
    "    \n",
    "    \n",
    "    #dunder methods for operator overloading\n",
    "    #operator overload to comply with operators of vectors instead of just normal operators with real numbers\n",
    "    def __truediv__(self, other):\n",
    "        '''\n",
    "        '''\n",
    "        if type(other) is int or type(other) is float:\n",
    "            return Vector(self.x/other, self.y/other, self.z/other)\n",
    "        else:\n",
    "            raise TypeError(f'Type is {type(other)}. Should be int')\n",
    "    def __rmul__(self, other):\n",
    "        '''\n",
    "        '''\n",
    "        return self.__mul__(other)\n",
    "    def __mul__(self, other): \n",
    "        '''\n",
    "        '''\n",
    "        if type(other) is float or type(other) is int:\n",
    "            return Vector(other*self.x, other*self.y, other*self.z)\n",
    "        elif type(other) is Vector: #taking determinant method of cross prod\n",
    "            cross_prod_i = self.y * other.z - other.y * self.z\n",
    "            cross_prod_j = -1 * (self.x*other.z - other.x*self.z)\n",
    "            cross_prod_k = self.x*other.y - other.x*self.y\n",
    "            return Vector(cross_prod_i, cross_prod_j, cross_prod_k)\n",
    "        else:\n",
    "            raise TypeError(f'Type is {type(other)}. Should be int or Vector')\n",
    "    def __add__(self, other):\n",
    "        '''\n",
    "        '''\n",
    "        if type(other) is not Vector:\n",
    "            raise TypeError(f'Type is {type(other)}. Should be Vector')\n",
    "        \n",
    "        return Vector(self.x+other.x, self.y+other.y, self.z+other.z)\n",
    "    def __sub__(self, other):\n",
    "        '''\n",
    "        '''\n",
    "        if type(other) is not Vector:\n",
    "            raise TypeError(f'Type is {type(other)}. Should be Vector')\n",
    "        \n",
    "        return Vector(self.x-other.x, self.y-other.y, self.z-other.z)\n",
    "    \n",
    "    #creating inner product, vector length, and unit_vectorization for full functionality of vector class\n",
    "    def dot(self, other):\n",
    "        '''\n",
    "        '''\n",
    "        if type(other) is not Vector:\n",
    "            raise TypeError(f'Type is {type(other)}. Should be Vector')\n",
    "        \n",
    "        return self.x * other.x + self.y * other.y + self.z * other.z\n",
    "    \n",
    "    \n",
    "    def len(self): \n",
    "        '''\n",
    "        '''\n",
    "        return (self.x*self.x + self.y*self.y + self.z*self.z)**0.5\n",
    "    def unit_vector(self):\n",
    "        '''\n",
    "        '''\n",
    "        return self / self.len()"
   ]
  },
  {
   "cell_type": "code",
   "execution_count": 68,
   "id": "704d2cd8",
   "metadata": {},
   "outputs": [
    {
     "name": "stdout",
     "output_type": "stream",
     "text": [
      "<1,2,3>\n",
      "<2,3,4>\n",
      "1 2 3\n",
      "<0,0,0>\n",
      "vector a: <9,4,5>  --> vector a/2: <4.5,2.0,2.5> --> vector 2*a: <18,8,10> --> vector a*2: <18,8,10>\n",
      "vector a+b: <11,7,9> --> vector a-b: <7,1,1> --> vector a cross b: <1,-26,19> --> vector a dot b: 50\n",
      "<9,4,5>\n",
      "length of a: 11.045361017187261 --> length of b: 5.385164807134504\n",
      "unit vector of a: <0.8148217143826667,0.3621429841700741,0.45267873021259264> --> len of unit vector a: 1.0\n"
     ]
    }
   ],
   "source": [
    "a = Vector(1,2,3)\n",
    "b = Vector(2,3,4)\n",
    "print(a)\n",
    "print(b)\n",
    "print(a.get_x(), a.get_y(), a.get_z())\n",
    "\n",
    "a.set_x(0); a.set_y(0); a.set_z(0);\n",
    "print(a)\n",
    "\n",
    "a = Vector(9,4,5)\n",
    "b = Vector(2,3,4)\n",
    "print(f'vector a: {a}  --> vector a/2: {a/2} --> vector 2*a: {2*a} --> vector a*2: {a*2}')\n",
    "print(f'vector a+b: {a+b} --> vector a-b: {a-b} --> vector a cross b: {a*b} --> vector a dot b: {a.dot(b)}')\n",
    "print(a)\n",
    "print(f'length of a: {a.len()} --> length of b: {b.len()}')\n",
    "print(f'unit vector of a: {a.unit_vector()} --> len of unit vector a: {a.unit_vector().len()}')"
   ]
  },
  {
   "cell_type": "markdown",
   "id": "464ac94c",
   "metadata": {},
   "source": [
    "### Bezier Class"
   ]
  },
  {
   "cell_type": "code",
   "execution_count": 117,
   "id": "00dd157d",
   "metadata": {},
   "outputs": [],
   "source": [
    "class Bezier: #3-dimensional case, 0<=t<=1\n",
    "    def __init__(self, control_points: [Vector]):\n",
    "        self.pts = control_points\n",
    "        self.length = len(control_points)\n",
    "        self.end_index = len(control_points) - 1\n",
    "    \n",
    "    #main helper functions for a bezier curve\n",
    "    def bernstein_poly(self, max_index, index: int, t: float):\n",
    "        '''\n",
    "        '''\n",
    "        return math.comb(max_index, index) * (t**index) * ((1-t)**(max_index-index))\n",
    "    def delta_b(self, index, power = 1):\n",
    "        '''\n",
    "        '''\n",
    "        if power == 1:\n",
    "            return self.pts[index+1] - self.pts[index]\n",
    "        elif power > 1: #power > 1\n",
    "            return self.delta_b(index+1,power-1) - self.delta_b(index,power-1)\n",
    "        else:\n",
    "            raise ValueError\n",
    "            \n",
    "            \n",
    "    \n",
    "    #basic kinematics / Calculus of Bezier Curve\n",
    "    #all of these kinematic functions should return vectors\n",
    "    def position(self, t: float) -> Vector:\n",
    "        '''\n",
    "        '''\n",
    "        pos = Vector(0,0,0)\n",
    "        for i in range(self.length):\n",
    "            pos += self.bernstein_poly(self.end_index, i,t) * self.pts[i]\n",
    "        return pos\n",
    "    def velocity(self, t: float) -> Vector:\n",
    "        '''\n",
    "        '''\n",
    "        velocity = Vector(0,0,0)\n",
    "        m = self.end_index\n",
    "        for i in range(self.length-1):\n",
    "            velocity += self.bernstein_poly(self.end_index-1,i,t) * self.delta_b(i,power=1)\n",
    "        return m * velocity\n",
    "    def acceleration(self, t: float) -> Vector:\n",
    "        acceleration = Vector(0,0,0)\n",
    "        m = self.end_index * (self.end_index-1)\n",
    "        for i in range(self.length-2):\n",
    "            acceleration += self.bernstein_poly(self.end_index-2,i,t) * self.delta_b(i,power=2)\n",
    "        return m * acceleration\n",
    "    def jerk(self, t: float) -> Vector:\n",
    "        jerk = Vector(0,0,0)\n",
    "        m = self.end_index * (self.end_index-1) * (self.end_index-2)\n",
    "        for i in range(self.length-3):\n",
    "            jerk += self.bernstein_poly(self.end_index-3,i,t) * self.delta_b(i,power=3)\n",
    "        return m * jerk\n",
    "    \n",
    "    \n",
    "    #Frenet Coordinates\n",
    "    def unit_tangent(self, t: float) -> Vector: #T(t)\n",
    "        '''\n",
    "        '''\n",
    "        return self.velocity(t).unit_vector()\n",
    "    def unit_normal(self, t: float) -> Vector: #N(t)\n",
    "        '''\n",
    "        '''\n",
    "        return (self.velocity(t) * (self.acceleration(t) * self.velocity(t))).unit_vector()\n",
    "    def unit_binormal(self, t: float) -> Vector: #B(t)\n",
    "        '''\n",
    "        '''\n",
    "        return (self.velocity(t) * self.acceleration(t)).unit_vector()\n",
    "    \n",
    "    def frenet_coord(self, t: float) -> (Vector,Vector,Vector):\n",
    "        '''\n",
    "        '''\n",
    "        return (self.unit_tangent(t), self.unit_normal(t), self.unit_binormal(t))\n",
    "    \n",
    "    \n",
    "    #Differential Geometry\n",
    "    def curvature(self, t):\n",
    "        '''\n",
    "        '''\n",
    "        return (self.velocity(t) * self.acceleration(t)).len() / (self.velocity(t).len()**3)\n",
    "    def torsion(self, t):\n",
    "        '''\n",
    "        '''\n",
    "        binormal_vec = self.velocity(t) * self.acceleration(t)\n",
    "        return self.jerk(t).dot( binormal_vec ) / (binormal_vec.len()**2)\n",
    "    \n",
    "    "
   ]
  },
  {
   "cell_type": "code",
   "execution_count": 118,
   "id": "4b135e4d",
   "metadata": {},
   "outputs": [
    {
     "name": "stdout",
     "output_type": "stream",
     "text": [
      "<-1.8700000000000006,7.418000000000001,0.0>\n",
      "<6.25,15.25,0.0>\n"
     ]
    }
   ],
   "source": [
    "control_pts = [Vector(0.0,0.0), Vector(-10.0,30.0), Vector(20.0,4.0), Vector(20.0,20.0)]\n",
    "bezier1 = Bezier(control_pts)\n",
    "print(bezier1.position(0.1))\n",
    "print(bezier1.position(0.5))"
   ]
  },
  {
   "cell_type": "code",
   "execution_count": 119,
   "id": "fd969192",
   "metadata": {},
   "outputs": [
    {
     "name": "stdout",
     "output_type": "stream",
     "text": [
      "<0.0,48.0,0>\n",
      "<-30.0,90.0,0>\n",
      "<37.5,-4.5,0.0>\n",
      "<240.0,-336.0,0>\n",
      "<30.0,-42.0,0.0>\n",
      "<-180.0,252.0,0>\n"
     ]
    }
   ],
   "source": [
    "print(bezier1.velocity(1))\n",
    "print(bezier1.velocity(0))\n",
    "print(bezier1.velocity(0.5))\n",
    "print(bezier1.acceleration(0))\n",
    "print(bezier1.acceleration(0.5))\n",
    "print(bezier1.acceleration(1))"
   ]
  },
  {
   "cell_type": "code",
   "execution_count": null,
   "id": "b09d7e0a",
   "metadata": {},
   "outputs": [],
   "source": []
  }
 ],
 "metadata": {
  "kernelspec": {
   "display_name": "Python 3 (ipykernel)",
   "language": "python",
   "name": "python3"
  },
  "language_info": {
   "codemirror_mode": {
    "name": "ipython",
    "version": 3
   },
   "file_extension": ".py",
   "mimetype": "text/x-python",
   "name": "python",
   "nbconvert_exporter": "python",
   "pygments_lexer": "ipython3",
   "version": "3.8.6"
  }
 },
 "nbformat": 4,
 "nbformat_minor": 5
}
