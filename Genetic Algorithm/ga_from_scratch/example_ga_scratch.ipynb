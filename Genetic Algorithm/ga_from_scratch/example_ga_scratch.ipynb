{
 "cells": [
  {
   "cell_type": "code",
   "execution_count": 1,
   "id": "45be8c04",
   "metadata": {},
   "outputs": [],
   "source": [
    "import numpy as np"
   ]
  },
  {
   "cell_type": "code",
   "execution_count": 2,
   "id": "3b11b5f5",
   "metadata": {},
   "outputs": [],
   "source": [
    "#Creating the Fitness Function\n",
    "def cal_pop_fitness(equation_inputs, pop):\n",
    "    fitness = np.sum(pop*equation_inputs, axis = 1)\n",
    "    return fitness"
   ]
  },
  {
   "cell_type": "code",
   "execution_count": 8,
   "id": "9695d550",
   "metadata": {},
   "outputs": [],
   "source": [
    "#creating the pooling stage of GA\n",
    "def select_mating_pool(pop, fitness, num_parents):\n",
    "    parents = np.empty( (num_parents, pop.shape[1]) )\n",
    "    for parent_num in range(num_parents):\n",
    "        #finding maximum fitness values\n",
    "        max_fitness_idx = np.where(fitness==np.max(fitness))\n",
    "        max_fitness_idx = max_fitness_idx[0][0]\n",
    "        \n",
    "        #set parents array to this value then set it to high (-) value \n",
    "        #in order to get the rest\n",
    "        parents[parent_num, :] = pop[max_fitness_idx,:]\n",
    "        fitness[max_fitness_idx] = -99999999999\n",
    "        \n",
    "    #returns top \"num_parents\" amount of parents\n",
    "    return parents"
   ]
  },
  {
   "cell_type": "code",
   "execution_count": 12,
   "id": "009472c7",
   "metadata": {},
   "outputs": [],
   "source": [
    "#creating the offspring stage of GA\n",
    "def crossover(parents, offspring_size):\n",
    "    offspring = np.empty(offspring_size)\n",
    "    \n",
    "    #crossover point is point where 2 parents switch their bits\n",
    "    crossover_point = np.uint8(offspring_size[1]/2)\n",
    "    \n",
    "    for k in range(offspring_size[0]):\n",
    "        #gets index for the first parent of set of two to mate\n",
    "        parent1_idx = k%parents.shape[0]\n",
    "        #gets index for the second parent of set of two to mate\n",
    "        parent2_idx = (k+1)%parents.shape[0]\n",
    "        \n",
    "        #new osspring will have first half from first parnet.\n",
    "        offspring[k, 0:crossover_point] = \\\n",
    "        parents[parent1_idx, 0:crossover_point]\n",
    "        \n",
    "        #new offspring will have second half from second parent\n",
    "        offspring[k, crossover_point:] = \\\n",
    "        parents[parent2_idx, crossover_point:]\n",
    "        \n",
    "    #after doing the above for all offspring, it returns itself\n",
    "    return offspring"
   ]
  },
  {
   "cell_type": "code",
   "execution_count": 13,
   "id": "2cdefef4",
   "metadata": {},
   "outputs": [],
   "source": [
    "#creating mutation stage of GA\n",
    "def mutation(offspring_crossover):\n",
    "    #mutation changes ONE gene in each offspring randomly.\n",
    "    for idx in range(offspring_crossover.shape[0]):\n",
    "        #the random value to be added in the gene\n",
    "        random_value = np.random.uniform(-1.0,1.0,1)\n",
    "        offspring_crossover[idx,4] = offspring_crossover[idx,4] + \\\n",
    "        random_value\n",
    "    return offspring_crossover"
   ]
  },
  {
   "cell_type": "markdown",
   "id": "c28f6041",
   "metadata": {},
   "source": [
    "# Piecing the stages from above together"
   ]
  },
  {
   "cell_type": "code",
   "execution_count": 14,
   "id": "358d4cb8",
   "metadata": {},
   "outputs": [],
   "source": [
    "'''\n",
    " y = w1x1 + w2x2 + w3x3 + w4x4 + w5x5 + w6x6\n",
    " find best values for the weights given an x value.\n",
    " (x1,x2,x3,x4,x5,x6) = (4,-2,3.5,5,-11,-4.7)\n",
    "'''\n",
    "\n",
    "x_vector = [4,-2,3.5,5,-11,4.7]\n",
    "num_weights = 6\n",
    "\n",
    "'''\n",
    "    supposed hyperparameters\n",
    "'''\n",
    "sol_per_pop = 8\n",
    "num_parents_mating = 4\n",
    "\n",
    "#initializing size and population\n",
    "pop_size = (sol_per_pop, num_weights)\n",
    "new_population = np.random.uniform(low=-4, high=4, size=pop_size)\n",
    "\n",
    "#iterations of the algorithm\n",
    "num_generations = 5\n",
    "\n",
    "for generation in range(num_generations):\n",
    "    #calculate fitness value\n",
    "    fitness = cal_pop_fitness(x_vector, new_population)\n",
    "    \n",
    "    #4 parents are in the mating pool\n",
    "    parents = select_mating_pool(new_population, fitness, num_parents_mating)\n",
    "    \n",
    "    offspring_crossover = crossover(parents, offspring_size=\\\n",
    "                                       (pop_size[0]-parents.shape[0], num_weights))\n",
    "    \n",
    "    offspring_mutation = mutation(offspring_crossover)\n",
    "    \n",
    "    new_population[0:parents.shape[0], :] = parents\n",
    "    new_population[parents.shape[0]:,:] = offspring_mutation\n",
    "    \n",
    "fitness = cal_pop_fitness(x_vector, new_population)"
   ]
  },
  {
   "cell_type": "code",
   "execution_count": 15,
   "id": "8d35e455",
   "metadata": {},
   "outputs": [
    {
     "data": {
      "text/plain": [
       "array([76.85490329, 66.27695077, 64.55838052, 63.74252358, 75.39654183,\n",
       "       69.82553937, 69.93491221, 71.86809217])"
      ]
     },
     "execution_count": 15,
     "metadata": {},
     "output_type": "execute_result"
    }
   ],
   "source": [
    "fitness"
   ]
  },
  {
   "cell_type": "code",
   "execution_count": null,
   "id": "dbacf4f1",
   "metadata": {},
   "outputs": [],
   "source": []
  }
 ],
 "metadata": {
  "kernelspec": {
   "display_name": "Python 3 (ipykernel)",
   "language": "python",
   "name": "python3"
  },
  "language_info": {
   "codemirror_mode": {
    "name": "ipython",
    "version": 3
   },
   "file_extension": ".py",
   "mimetype": "text/x-python",
   "name": "python",
   "nbconvert_exporter": "python",
   "pygments_lexer": "ipython3",
   "version": "3.8.6"
  }
 },
 "nbformat": 4,
 "nbformat_minor": 5
}
