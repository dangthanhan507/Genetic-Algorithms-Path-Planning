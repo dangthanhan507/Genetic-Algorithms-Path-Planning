{
 "cells": [
  {
   "cell_type": "code",
   "execution_count": 1,
   "id": "3837926d",
   "metadata": {},
   "outputs": [],
   "source": [
    "from deap import creator"
   ]
  },
  {
   "cell_type": "markdown",
   "id": "6e28f014",
   "metadata": {},
   "source": [
    "Creator module allows us to augment existing classes"
   ]
  },
  {
   "cell_type": "markdown",
   "id": "d67a58c7",
   "metadata": {},
   "source": [
    "# Using creator module"
   ]
  },
  {
   "cell_type": "markdown",
   "id": "5b3449e5",
   "metadata": {},
   "source": [
    "Use creator tool to create a developer class that extends the Employee class\n",
    "<br>\n",
    "creator.create('Developer', Employee, position = 'Developer', programmingLanguages=set) <br> <br> <br>\n",
    "\n",
    "effectively, this one line is pretty much <br> <br>\n",
    "\n",
    "class Developer(Employee): <br>\n",
    "&nbsp;&nbsp;&nbsp;&nbsp;&nbsp;&nbsp;\n",
    "position = 'Developer' <br>\n",
    "\n",
    "    def __init__(self): <br>\n",
    "        self.programmingLanguages=set()"
   ]
  },
  {
   "cell_type": "markdown",
   "id": "290de59f",
   "metadata": {},
   "source": [
    "# Creating the Fitness Class"
   ]
  },
  {
   "cell_type": "markdown",
   "id": "c16ac023",
   "metadata": {},
   "source": [
    "DEAP comes with abstract base.Fitness class which contains a weights tuple\n",
    "<br> <br>\n",
    "\n",
    "creator.create('FitnessMax', base.Fitness, weights=(1.0,) ) <br>\n",
    "or <br>\n",
    "creator.create('FitnessCompound', base.Fitness, weights=(1.0,0.2,-0.5) )\n",
    "<br>\n",
    "or <br>\n",
    "creator.create('FitnessMin', base.Fitness, weights=(-1.0,)) <br> <br>\n"
   ]
  },
  {
   "cell_type": "markdown",
   "id": "5317cab9",
   "metadata": {},
   "source": [
    "# Creating the Individual class"
   ]
  },
  {
   "cell_type": "markdown",
   "id": "2340d52b",
   "metadata": {},
   "source": [
    "creator.create('Individual', list, fitness=creator.FitnessMax) <br> <br>"
   ]
  },
  {
   "cell_type": "markdown",
   "id": "cd151d87",
   "metadata": {},
   "source": [
    "# Using Toolbox"
   ]
  },
  {
   "cell_type": "markdown",
   "id": "dc35a911",
   "metadata": {},
   "source": [
    "def sumOfTwo(a,b): return a+b\n",
    "<br> <br>\n",
    "from deap import base <br>\n",
    "toolbox = base.Toolbox() <br>\n",
    "toolbox.register('incrementByFive', sumOfTwo, b=5) <br>\n",
    "\n",
    "<br><br>\n",
    "\n",
    "toolbox.incrementByFive(10) == sumOfTwo(10,5) pretty much <br>"
   ]
  },
  {
   "cell_type": "code",
   "execution_count": null,
   "id": "cd945201",
   "metadata": {},
   "outputs": [],
   "source": []
  }
 ],
 "metadata": {
  "kernelspec": {
   "display_name": "Python 3 (ipykernel)",
   "language": "python",
   "name": "python3"
  },
  "language_info": {
   "codemirror_mode": {
    "name": "ipython",
    "version": 3
   },
   "file_extension": ".py",
   "mimetype": "text/x-python",
   "name": "python",
   "nbconvert_exporter": "python",
   "pygments_lexer": "ipython3",
   "version": "3.8.6"
  }
 },
 "nbformat": 4,
 "nbformat_minor": 5
}
