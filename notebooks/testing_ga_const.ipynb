{
 "cells": [
  {
   "cell_type": "code",
   "execution_count": 1,
   "id": "18730c85",
   "metadata": {},
   "outputs": [],
   "source": [
    "import pygad\n",
    "import numpy as np\n",
    "import math"
   ]
  },
  {
   "cell_type": "code",
   "execution_count": 122,
   "id": "431b401b",
   "metadata": {},
   "outputs": [],
   "source": [
    "class Vector:\n",
    "    def __init__(self, x, y):\n",
    "        self.x = x\n",
    "        self.y = y\n",
    "    \n",
    "    def __add__(self, other):\n",
    "        if type(other) is int or type(other) is float:\n",
    "            return Vector(self.x + other, self.y + other)\n",
    "        elif type(other) is Vector:\n",
    "            return Vector(self.x + other.x, self.y + other.y)\n",
    "        else:\n",
    "            raise TypeError\n",
    "    \n",
    "    def __sub__(self, other):\n",
    "        return Vector(self.x - other.x, self.y - other.y)\n",
    "    \n",
    "    def __mul__(self, other):\n",
    "        return self.x * other.x + self.y * other.y\n",
    "    \n",
    "    def angle(self):\n",
    "        return math.atan2(self.y,self.x) * 180 / math.pi\n",
    "    \n",
    "    def distance(self):\n",
    "        return (self.x**2 + self.y**2)**(0.5)"
   ]
  },
  {
   "cell_type": "code",
   "execution_count": 416,
   "id": "62881141",
   "metadata": {},
   "outputs": [],
   "source": [
    "'''\n",
    "0 -> free space\n",
    "1 -> obstacle\n",
    "2 -> start\n",
    "4 -> end\n",
    "'''\n",
    "\n",
    "class Map:\n",
    "    def __init__(self, start, end, obstacles, shape = (10,10)):\n",
    "        self.grid = np.zeros(shape, dtype=np.uint8)\n",
    "        self.start = start\n",
    "        self.end = end\n",
    "        \n",
    "        self.grid[start[::-1]] = 2\n",
    "        self.grid[end[::-1]] = 4\n",
    "        \n",
    "        for i in obstacles:\n",
    "            self.grid[i[::-1]] = 1\n",
    "    \n",
    "    def get_start(self):\n",
    "        return self.start\n",
    "    def get_end(self):\n",
    "        return self.end\n",
    "    def get_grid(self):\n",
    "        return self.grid\n",
    "    \n",
    "    def set_start(self, val: (int,int)):\n",
    "        self.grid[self.start[::-1]] = 0\n",
    "        self.start = val\n",
    "        self.grid[start[::-1]] = 2\n",
    "        \n",
    "    def set_end(self, val: (int,int)):\n",
    "        self.grid[self.end[::-1]] = 0\n",
    "        self.end = val\n",
    "        self.grid[self.end[::-1]] = 4\n",
    "    def set_grid(self, val: 'Grid'):\n",
    "        self.grid = val\n",
    "    \n",
    "    def obstacle_threshold(self, start: (int,int), obstacle: (int,int)): # (x,y) returns (low, high)\n",
    "        obj_vec = Vector(abs(obstacle[0] - start[0]) , abs(obstacle[1] - start[1]))\n",
    "        \n",
    "        tl = obj_vec + Vector(-0.5,0.5)\n",
    "        tr = obj_vec + Vector(0.5,0.5)\n",
    "        bl = obj_vec + Vector(-0.5,-0.5)\n",
    "        br = obj_vec + Vector(0.5,-0.5)\n",
    "        \n",
    "        \n",
    "        ls_angle = np.array([i.angle() for i in [tl,tr,bl,br]])\n",
    "\n",
    "        min_ls_angle = min(ls_angle)\n",
    "        max_ls_angle = max(ls_angle)\n",
    "        return (min_ls_angle, max_ls_angle)\n",
    "    \n",
    "    def sign(self, x):\n",
    "        if x>=0:\n",
    "            return 1\n",
    "        else:\n",
    "            return -1\n",
    "\n",
    "    def obstacle_obstructed(self, start: (int,int), end: (int,int), obstacle: (int,int)):\n",
    "        traj_vector = np.array([end[0] - start[0], end[1] - start[1]])\n",
    "        obj_vector = np.array([obstacle[0] - start[0], obstacle[1] - start[1]])\n",
    "\n",
    "        obj_2_traj = traj_vector - obj_vector\n",
    "\n",
    "        traj_vector = Vector(end[0] - start[0], end[1] - start[1])\n",
    "        obj_vector = Vector(obstacle[0] - start[0], obstacle[1] - start[1])\n",
    "        \n",
    "        dot = traj_vector * obj_vector\n",
    "\n",
    "        if dot <= 0: #if it is at or in front of obstacle, then is gud\n",
    "            return False\n",
    "\n",
    "        sig_x = self.sign(obj_vector.x)\n",
    "        sig_y = self.sign(obj_vector.y)\n",
    "        traj_vector.x *= sig_x\n",
    "        traj_vector.y *= sig_y\n",
    "\n",
    "        obj_vector.x *= sig_x\n",
    "        obj_vector.y *= sig_y\n",
    "\n",
    "        angle_traj = traj_vector.angle()\n",
    "        threshold = self.obstacle_threshold(start, obstacle)\n",
    "\n",
    "        return threshold[0] <= angle_traj <= threshold[1]\n"
   ]
  },
  {
   "cell_type": "code",
   "execution_count": 417,
   "id": "e8224797",
   "metadata": {},
   "outputs": [],
   "source": [
    "class GA_Solver:\n",
    "    def __init__(self, MAP, generations: int, parents_mating: int, \\\n",
    "                 solutions_per_pop: int, num_nodes: int, \n",
    "                 thresh: (int,int), mutation_percent: int):\n",
    "        self.generations = generations\n",
    "        self.parents_mating = parents_mating\n",
    "        self.sol_per_pop = solutions_per_pop\n",
    "        \n",
    "        self.num_genes = num_nodes * 2\n",
    "        (self.init_range_low, self.init_range_high) = thresh\n",
    "        self.mutation_percent_genes = mutation_percent\n",
    "        \n",
    "        self.ga_instance = None\n",
    "        self.solution = None\n",
    "        self.solution_fitness = None\n",
    "        \n",
    "        self.map = MAP\n",
    "        \n",
    "    def fitness_func(self, solution, solution_idx):\n",
    "        penalty = 0\n",
    "        solution = list(map(int, solution))\n",
    "        \n",
    "        grid = self.map.get_grid()\n",
    "        \n",
    "        start = self.map.get_start()\n",
    "        pts = [tuple(solution[i:i+2]) for i in range(0,self.num_genes,2)]\n",
    "        end = self.map.get_end()\n",
    "        \n",
    "        \n",
    "        cross_penalty = [9999999999999999 for i in pts if grid[i[::-1]] > 0]\n",
    "        print(f'incorrect node selection: {len(cross_penalty)}')\n",
    "        penalty += sum(cross_penalty)\n",
    "        \n",
    "        obstacles_idx = np.where(grid==1)\n",
    "        obstacles_idx = list(zip(obstacles_idx[1], obstacles_idx[0]))\n",
    "        \n",
    "        \n",
    "        dis = 0\n",
    "        for i in range(len(pts)+1):\n",
    "            if i == 0:\n",
    "                vec = Vector(pts[i][0] - start[0], pts[i][1] - start[1])\n",
    "                #ls_penalty = [99999999 for j in obstacles_idx if self.map.obstacle_obstructed(start,pts[i], j)]\n",
    "                ls_penalty = []\n",
    "                for j in obstacles_idx:\n",
    "                    if self.map.obstacle_obstructed(start,pts[i],j):\n",
    "                        ls_penalty.append(99999999)\n",
    "                        print(f'  Obstructed at point {j}.')\n",
    "                \n",
    "                print(f'penalty of {start} to {pts[i]}: {len(ls_penalty)}')\n",
    "                penalty += sum(ls_penalty)\n",
    "            elif i == len(pts):\n",
    "                vec = Vector(end[0] - pts[i-1][0], end[1] - pts[i-1][1])\n",
    "                ls_penalty = [99999999 for j in obstacles_idx if self.map.obstacle_obstructed(pts[i-1],end, j)]\n",
    "                print(f'penalty of {pts[i-1]} to {end}: {len(ls_penalty)}')\n",
    "                penalty += sum(ls_penalty)\n",
    "            else:\n",
    "                vec = Vector(pts[i][0] - pts[i-1][0], pts[i][1] - pts[i-1][1])\n",
    "                ls_penalty = [99999999 for j in obstacles_idx if self.map.obstacle_obstructed(pts[i-1],pts[i], j)]\n",
    "                print(f'penalty of {pts[i-1]} to {pts[i]}: {len(ls_penalty)}')\n",
    "                penalty += sum(ls_penalty)\n",
    "            vec_dis = vec.distance()\n",
    "            if vec_dis == 0:\n",
    "                penalty += 99999999\n",
    "            dis += vec_dis\n",
    "        print()\n",
    "        return 1.0 / (dis+1) - penalty\n",
    "        \n",
    "        \n",
    "    def train_ga(self):\n",
    "        def fitness_func(solution, solution_idx):\n",
    "            return self.fitness_func(solution, solution_idx)\n",
    "        \n",
    "        \n",
    "        gene_range = [{'low': self.init_range_low, 'high': self.init_range_high}] * self.num_genes\n",
    "        \n",
    "        self.ga_instance = pygad.GA(num_generations = self.generations,\n",
    "                                   num_parents_mating = self.parents_mating,\n",
    "                                   fitness_func=fitness_func,\n",
    "                                    sol_per_pop=self.sol_per_pop,\n",
    "                                    num_genes=self.num_genes,\n",
    "                                   init_range_low=self.init_range_low,\n",
    "                                    gene_space = gene_range,\n",
    "                                   init_range_high=self.init_range_high,\n",
    "                                   mutation_percent_genes=self.mutation_percent_genes)\n",
    "        self.ga_instance.run()\n",
    "        solution, solution_fitness, solution_idx = self.ga_instance.best_solution()\n",
    "        \n",
    "        self.solution = solution\n",
    "        self.solution_fitness = solution_fitness\n",
    "    def convert_solution(self):\n",
    "        solution = list(map(int,self.solution))\n",
    "        return [tuple(solution[i:i+2]) for i in range(0,self.num_genes,2)]\n",
    "    \n",
    "    def produce_sol_grid(self):\n",
    "        sol = self.convert_solution()\n",
    "        grid = np.copy(self.map.get_grid())\n",
    "        for i in sol:\n",
    "            grid[i[::-1]] = 5\n",
    "        return grid"
   ]
  },
  {
   "cell_type": "markdown",
   "id": "1ba6c846",
   "metadata": {},
   "source": [
    "## Quick Testing Vector"
   ]
  },
  {
   "cell_type": "code",
   "execution_count": 418,
   "id": "425ff483",
   "metadata": {},
   "outputs": [],
   "source": [
    "a = Vector(1,2)\n",
    "b = Vector(1,2)\n",
    "assert a * b == 5\n",
    "assert (a + b).x == 2\n",
    "assert (a + b).y == 4\n",
    "assert (a - b).x == 0\n",
    "assert (a - b).y == 0\n",
    "assert Vector(3,4).distance() == 5\n",
    "assert Vector(4,4).angle() == 45"
   ]
  },
  {
   "cell_type": "markdown",
   "id": "6172b3b0",
   "metadata": {},
   "source": [
    "## Quick Testing Map"
   ]
  },
  {
   "cell_type": "code",
   "execution_count": 426,
   "id": "9f54c100",
   "metadata": {},
   "outputs": [],
   "source": [
    "obstacles = [(7,0), (8, 0), (9, 0), (4, 3), (0, 4), (1, 4), \\\n",
    "             (3, 4), (4, 4), (0, 5), (1, 5), (3, 5), (4, 5), \\\n",
    "             (7, 7), (8, 7), (7, 8), (8, 8)]\n",
    "shape = (10,10)\n",
    "MAP = Map(start=(0,0), end=(9,9), obstacles=obstacles, shape=shape)"
   ]
  },
  {
   "cell_type": "code",
   "execution_count": 427,
   "id": "6026e938",
   "metadata": {},
   "outputs": [],
   "source": [
    "MAP.get_grid()\n",
    "ga = GA_Solver(MAP, generations=50, parents_mating=20, solutions_per_pop=200, num_nodes=2, thresh=(0,10), mutation_percent=20)"
   ]
  },
  {
   "cell_type": "code",
   "execution_count": 1,
   "id": "468887b5",
   "metadata": {},
   "outputs": [
    {
     "ename": "NameError",
     "evalue": "name 'ga' is not defined",
     "output_type": "error",
     "traceback": [
      "\u001b[1;31m---------------------------------------------------------------------------\u001b[0m",
      "\u001b[1;31mNameError\u001b[0m                                 Traceback (most recent call last)",
      "\u001b[1;32m~\\AppData\\Local\\Temp/ipykernel_13992/1579829527.py\u001b[0m in \u001b[0;36m<module>\u001b[1;34m\u001b[0m\n\u001b[1;32m----> 1\u001b[1;33m \u001b[0mga\u001b[0m\u001b[1;33m.\u001b[0m\u001b[0mtrain_ga\u001b[0m\u001b[1;33m(\u001b[0m\u001b[1;33m)\u001b[0m\u001b[1;33m\u001b[0m\u001b[1;33m\u001b[0m\u001b[0m\n\u001b[0m",
      "\u001b[1;31mNameError\u001b[0m: name 'ga' is not defined"
     ]
    }
   ],
   "source": [
    "ga.train_ga()"
   ]
  },
  {
   "cell_type": "code",
   "execution_count": 429,
   "id": "bbb518d9",
   "metadata": {},
   "outputs": [
    {
     "data": {
      "text/plain": [
       "[(6, 3), (9, 7)]"
      ]
     },
     "execution_count": 429,
     "metadata": {},
     "output_type": "execute_result"
    }
   ],
   "source": [
    "ga.convert_solution()"
   ]
  },
  {
   "cell_type": "code",
   "execution_count": 423,
   "id": "21e606d9",
   "metadata": {},
   "outputs": [
    {
     "data": {
      "text/plain": [
       "array([[2, 0, 0, 0, 0, 0, 0, 1, 1, 1],\n",
       "       [0, 0, 0, 0, 0, 0, 0, 0, 0, 0],\n",
       "       [0, 0, 0, 0, 0, 0, 0, 0, 0, 0],\n",
       "       [0, 0, 0, 0, 1, 0, 0, 0, 0, 0],\n",
       "       [1, 1, 0, 1, 1, 0, 0, 0, 0, 0],\n",
       "       [1, 1, 0, 1, 1, 0, 0, 0, 0, 0],\n",
       "       [0, 0, 0, 0, 0, 0, 0, 0, 0, 0],\n",
       "       [0, 0, 0, 0, 0, 0, 0, 1, 1, 0],\n",
       "       [0, 0, 0, 0, 0, 0, 0, 1, 1, 0],\n",
       "       [0, 0, 0, 0, 0, 0, 0, 0, 0, 4]], dtype=uint8)"
      ]
     },
     "execution_count": 423,
     "metadata": {},
     "output_type": "execute_result"
    }
   ],
   "source": [
    "ga.map.get_grid()"
   ]
  },
  {
   "cell_type": "code",
   "execution_count": 424,
   "id": "f8e617ed",
   "metadata": {},
   "outputs": [
    {
     "data": {
      "text/plain": [
       "array([[2, 0, 0, 0, 0, 0, 0, 1, 1, 1],\n",
       "       [0, 0, 0, 0, 0, 0, 0, 0, 0, 0],\n",
       "       [0, 0, 0, 0, 0, 0, 0, 0, 0, 0],\n",
       "       [0, 0, 0, 0, 1, 0, 5, 0, 0, 0],\n",
       "       [1, 1, 0, 1, 1, 0, 0, 0, 0, 0],\n",
       "       [1, 1, 0, 1, 1, 0, 0, 0, 0, 0],\n",
       "       [0, 0, 0, 0, 0, 0, 0, 0, 0, 0],\n",
       "       [0, 0, 0, 0, 0, 0, 0, 1, 1, 5],\n",
       "       [0, 0, 0, 0, 0, 0, 0, 1, 1, 0],\n",
       "       [0, 0, 0, 0, 0, 0, 0, 0, 0, 4]], dtype=uint8)"
      ]
     },
     "execution_count": 424,
     "metadata": {},
     "output_type": "execute_result"
    }
   ],
   "source": [
    "ga.produce_sol_grid()"
   ]
  },
  {
   "cell_type": "code",
   "execution_count": 425,
   "id": "d77a2f1f",
   "metadata": {
    "scrolled": true
   },
   "outputs": [
    {
     "name": "stdout",
     "output_type": "stream",
     "text": [
      "incorrect node selection: 0\n",
      "penalty of (0, 0) to (4, 2): 0\n",
      "penalty of (4, 2) to (5, 2): 0\n",
      "penalty of (5, 2) to (9, 9): 2\n",
      "\n"
     ]
    },
    {
     "data": {
      "text/plain": [
       "-199999997.93119767"
      ]
     },
     "execution_count": 425,
     "metadata": {},
     "output_type": "execute_result"
    }
   ],
   "source": [
    "ga.fitness_func( [4,2,5,2], 0)"
   ]
  },
  {
   "cell_type": "code",
   "execution_count": 375,
   "id": "f4c9386a",
   "metadata": {
    "scrolled": true
   },
   "outputs": [
    {
     "data": {
      "text/plain": [
       "-99999998.9307835"
      ]
     },
     "execution_count": 375,
     "metadata": {},
     "output_type": "execute_result"
    }
   ],
   "source": [
    "ga.solution_fitness"
   ]
  }
 ],
 "metadata": {
  "kernelspec": {
   "display_name": "Python 3 (ipykernel)",
   "language": "python",
   "name": "python3"
  },
  "language_info": {
   "codemirror_mode": {
    "name": "ipython",
    "version": 3
   },
   "file_extension": ".py",
   "mimetype": "text/x-python",
   "name": "python",
   "nbconvert_exporter": "python",
   "pygments_lexer": "ipython3",
   "version": "3.8.6"
  }
 },
 "nbformat": 4,
 "nbformat_minor": 5
}
